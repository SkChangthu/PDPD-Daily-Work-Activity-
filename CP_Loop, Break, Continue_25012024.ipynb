{
 "cells": [
  {
   "cell_type": "markdown",
   "id": "81dd5a8c",
   "metadata": {},
   "source": [
    "# For loop."
   ]
  },
  {
   "cell_type": "code",
   "execution_count": null,
   "id": "cd7fbdb6",
   "metadata": {},
   "outputs": [],
   "source": []
  },
  {
   "cell_type": "code",
   "execution_count": 1,
   "id": "e33b211a",
   "metadata": {},
   "outputs": [
    {
     "name": "stdout",
     "output_type": "stream",
     "text": [
      "hello\n",
      "for\n",
      "python\n"
     ]
    }
   ],
   "source": [
    "# print(\"List Iteration\")\n",
    "I=[\"hello\",\"for\",\"python\"]\n",
    "for i in I:\n",
    "    print(i)"
   ]
  },
  {
   "cell_type": "code",
   "execution_count": 2,
   "id": "32a87735",
   "metadata": {},
   "outputs": [
    {
     "name": "stdout",
     "output_type": "stream",
     "text": [
      "hello\n"
     ]
    }
   ],
   "source": [
    "print(I[0])"
   ]
  },
  {
   "cell_type": "code",
   "execution_count": 3,
   "id": "25273385",
   "metadata": {},
   "outputs": [
    {
     "name": "stdout",
     "output_type": "stream",
     "text": [
      "for\n"
     ]
    }
   ],
   "source": [
    "print(I[1])"
   ]
  },
  {
   "cell_type": "code",
   "execution_count": 4,
   "id": "f410e6ec",
   "metadata": {},
   "outputs": [
    {
     "name": "stdout",
     "output_type": "stream",
     "text": [
      "python\n"
     ]
    }
   ],
   "source": [
    "print(I[2])"
   ]
  },
  {
   "cell_type": "code",
   "execution_count": 5,
   "id": "fa6dff5c",
   "metadata": {},
   "outputs": [
    {
     "name": "stdout",
     "output_type": "stream",
     "text": [
      "\n",
      "Tuple Iteration\n",
      "hello\n",
      "for\n",
      "python\n"
     ]
    }
   ],
   "source": [
    "print(\"\\nTuple Iteration\")\n",
    "t=(\"hello\",\"for\",\"python\")\n",
    "for i in t:\n",
    "    print(i)"
   ]
  },
  {
   "cell_type": "markdown",
   "id": "f2ca063c",
   "metadata": {},
   "source": [
    "# Iterating over dictonary "
   ]
  },
  {
   "cell_type": "code",
   "execution_count": 6,
   "id": "16fbde3d",
   "metadata": {},
   "outputs": [
    {
     "name": "stdout",
     "output_type": "stream",
     "text": [
      "\n",
      "Dictonary Ipteation\n",
      "xyz 123\n",
      "abc 345\n"
     ]
    }
   ],
   "source": [
    "print(\"\\nDictonary Ipteation\")\n",
    "d=dict()\n",
    "d['xyz']=123\n",
    "d['abc']=345\n",
    "for i in d:\n",
    "    print(\"%s %d\"%(i,d[i]))"
   ]
  },
  {
   "cell_type": "code",
   "execution_count": 7,
   "id": "5258b3e4",
   "metadata": {},
   "outputs": [
    {
     "name": "stdout",
     "output_type": "stream",
     "text": [
      "\n",
      "Dictonary Ipteation\n",
      "xyz 123\n",
      "abc 345\n"
     ]
    }
   ],
   "source": [
    "print(\"\\nDictonary Ipteation\")\n",
    "d=dict()\n",
    "d['xyz']=123\n",
    "d['abc']=345\n",
    "for i in d:\n",
    "    print(i,d[i])"
   ]
  },
  {
   "cell_type": "markdown",
   "id": "b307285d",
   "metadata": {},
   "source": [
    "# Loop Control Statements"
   ]
  },
  {
   "cell_type": "markdown",
   "id": "c9cec128",
   "metadata": {},
   "source": [
    "## Continue--->"
   ]
  },
  {
   "cell_type": "code",
   "execution_count": 8,
   "id": "5c6c55bc",
   "metadata": {},
   "outputs": [
    {
     "name": "stdout",
     "output_type": "stream",
     "text": [
      "Current Letter: p\n",
      "Current Letter: y\n",
      "Current Letter: t\n",
      "Current Letter: h\n",
      "Current Letter: n\n",
      "Current Letter:  \n",
      "Current Letter: d\n",
      "Current Letter: v\n",
      "Current Letter: l\n",
      "Current Letter: p\n",
      "Current Letter: r\n"
     ]
    }
   ],
   "source": [
    "for X in \"python developer\":\n",
    "    if X=='e' or X =='o':\n",
    "        continue\n",
    "    print('Current Letter:', X)"
   ]
  },
  {
   "cell_type": "markdown",
   "id": "61c3f105",
   "metadata": {},
   "source": [
    "# Q-1. Write a python prorgramme to print the kolkata from kolkata, skip k and a."
   ]
  },
  {
   "cell_type": "code",
   "execution_count": 9,
   "id": "2db56bcd",
   "metadata": {},
   "outputs": [],
   "source": [
    "j=\"kolkata\""
   ]
  },
  {
   "cell_type": "code",
   "execution_count": 10,
   "id": "89cc68ca",
   "metadata": {},
   "outputs": [
    {
     "name": "stdout",
     "output_type": "stream",
     "text": [
      "o\n",
      "l\n",
      "t\n"
     ]
    }
   ],
   "source": [
    "for j in j:\n",
    "    if j==\"k\" or j==\"a\":\n",
    "        continue\n",
    "    print(j)"
   ]
  },
  {
   "cell_type": "code",
   "execution_count": 11,
   "id": "ec31a6cb",
   "metadata": {},
   "outputs": [
    {
     "name": "stdout",
     "output_type": "stream",
     "text": [
      "Current Letter o\n",
      "Current Letter l\n",
      "Current Letter a\n",
      "Current Letter t\n",
      "Current Letter a\n",
      "Current Letter  \n",
      "Current Letter i\n",
      "Current Letter p\n",
      "Current Letter s\n"
     ]
    }
   ],
   "source": [
    "for j in \"kolkata ipcs\":\n",
    "    if j=='k' or j =='c':\n",
    "        continue\n",
    "    print('Current Letter', j)"
   ]
  },
  {
   "cell_type": "code",
   "execution_count": 12,
   "id": "17b27932",
   "metadata": {},
   "outputs": [],
   "source": [
    "# Q--- "
   ]
  },
  {
   "cell_type": "markdown",
   "id": "b64df7a3",
   "metadata": {},
   "source": [
    "# Break--> It brings control out of the loop."
   ]
  },
  {
   "cell_type": "code",
   "execution_count": 13,
   "id": "feac04fa",
   "metadata": {},
   "outputs": [
    {
     "name": "stdout",
     "output_type": "stream",
     "text": [
      "Current Letter: p\n",
      "Current Letter: y\n",
      "Current Letter: t\n",
      "Current Letter: h\n"
     ]
    }
   ],
   "source": [
    "for x in 'python developer':\n",
    "    # break the loop as soon it sees 'e' or 'o'\n",
    "    if x =='o' or x=='o':\n",
    "        break\n",
    "    print('Current Letter:', x)"
   ]
  },
  {
   "cell_type": "code",
   "execution_count": 14,
   "id": "f764c82d",
   "metadata": {},
   "outputs": [
    {
     "name": "stdout",
     "output_type": "stream",
     "text": [
      "Current Letter: s\n",
      "Current Letter: a\n",
      "Current Letter: h\n",
      "Current Letter: i\n",
      "Current Letter: l\n",
      "Current Letter:  \n",
      "Current Letter: s\n",
      "Current Letter: a\n",
      "Current Letter: h\n",
      "Current Letter: i\n"
     ]
    }
   ],
   "source": [
    "for k in 'sahil sahin':\n",
    "    # break the loop as soon it sees 'n' or 'n'\n",
    "    if k =='n' or k=='n':\n",
    "        break\n",
    "    print('Current Letter:', k)"
   ]
  },
  {
   "cell_type": "markdown",
   "id": "424dae87",
   "metadata": {},
   "source": [
    "# Pass--->"
   ]
  },
  {
   "cell_type": "code",
   "execution_count": 15,
   "id": "5bc9fa69",
   "metadata": {},
   "outputs": [],
   "source": [
    "k=\"sahil sahin\""
   ]
  },
  {
   "cell_type": "code",
   "execution_count": 16,
   "id": "556a842e",
   "metadata": {},
   "outputs": [
    {
     "name": "stdout",
     "output_type": "stream",
     "text": [
      "last letter: n\n"
     ]
    }
   ],
   "source": [
    "for k in k:\n",
    "    pass\n",
    "print(\"last letter:\",k)"
   ]
  },
  {
   "cell_type": "code",
   "execution_count": 17,
   "id": "c1ee6660",
   "metadata": {},
   "outputs": [
    {
     "name": "stdout",
     "output_type": "stream",
     "text": [
      "last letter: r\n"
     ]
    }
   ],
   "source": [
    "x='python Developer'\n",
    "for x in x:\n",
    "    pass\n",
    "print(\"last letter:\",x)"
   ]
  },
  {
   "cell_type": "code",
   "execution_count": 18,
   "id": "4885e7b4",
   "metadata": {},
   "outputs": [
    {
     "name": "stdout",
     "output_type": "stream",
     "text": [
      "last letter: r\n"
     ]
    }
   ],
   "source": [
    "x='python Developer'\n",
    "for x in x:\n",
    "    pass\n",
    "print(\"last letter:\",x)"
   ]
  },
  {
   "cell_type": "markdown",
   "id": "911a0b96",
   "metadata": {},
   "source": [
    "# Range() function"
   ]
  },
  {
   "cell_type": "code",
   "execution_count": 19,
   "id": "8c19d516",
   "metadata": {},
   "outputs": [],
   "source": [
    "# Stop--"
   ]
  },
  {
   "cell_type": "code",
   "execution_count": 20,
   "id": "2a234e34",
   "metadata": {},
   "outputs": [
    {
     "name": "stdout",
     "output_type": "stream",
     "text": [
      "0\n",
      "1\n",
      "2\n",
      "3\n",
      "4\n",
      "5\n",
      "6\n",
      "7\n",
      "8\n",
      "9\n"
     ]
    }
   ],
   "source": [
    "for i in range(10):\n",
    "    print(i)"
   ]
  },
  {
   "cell_type": "code",
   "execution_count": 21,
   "id": "9ba8c2fd",
   "metadata": {},
   "outputs": [
    {
     "name": "stdout",
     "output_type": "stream",
     "text": [
      "0 1 2 3 4 5 6 7 8 9 "
     ]
    }
   ],
   "source": [
    "for i in range(10):\n",
    "    print(i,end=\" \")"
   ]
  },
  {
   "cell_type": "markdown",
   "id": "f1b5a2f8",
   "metadata": {},
   "source": [
    "# Start and stop, print natural number from 2 to 50"
   ]
  },
  {
   "cell_type": "code",
   "execution_count": 22,
   "id": "5f7bf312",
   "metadata": {},
   "outputs": [
    {
     "name": "stdout",
     "output_type": "stream",
     "text": [
      "2\n",
      "3\n",
      "4\n",
      "5\n",
      "6\n",
      "7\n",
      "8\n",
      "9\n",
      "10\n",
      "11\n",
      "12\n",
      "13\n",
      "14\n",
      "15\n",
      "16\n",
      "17\n",
      "18\n",
      "19\n",
      "20\n",
      "21\n",
      "22\n",
      "23\n",
      "24\n",
      "25\n",
      "26\n",
      "27\n",
      "28\n",
      "29\n",
      "30\n",
      "31\n",
      "32\n",
      "33\n",
      "34\n",
      "35\n",
      "36\n",
      "37\n",
      "38\n",
      "39\n",
      "40\n",
      "41\n",
      "42\n",
      "43\n",
      "44\n",
      "45\n",
      "46\n",
      "47\n",
      "48\n",
      "49\n"
     ]
    }
   ],
   "source": [
    "for i in range(2,50):\n",
    "    print(i)"
   ]
  },
  {
   "cell_type": "code",
   "execution_count": 23,
   "id": "48677ae1",
   "metadata": {},
   "outputs": [
    {
     "name": "stdout",
     "output_type": "stream",
     "text": [
      "2 $ 3 $ 4 $ 5 $ 6 $ 7 $ 8 $ 9 $ 10 $ 11 $ 12 $ 13 $ 14 $ 15 $ 16 $ 17 $ 18 $ 19 $ 20 $ 21 $ 22 $ 23 $ 24 $ 25 $ 26 $ 27 $ 28 $ 29 $ 30 $ 31 $ 32 $ 33 $ 34 $ 35 $ 36 $ 37 $ 38 $ 39 $ 40 $ 41 $ 42 $ 43 $ 44 $ 45 $ 46 $ 47 $ 48 $ 49 $ "
     ]
    }
   ],
   "source": [
    "for i in range(2,50):\n",
    "    print(i,end=\" $ \")"
   ]
  },
  {
   "cell_type": "markdown",
   "id": "f1cd8548",
   "metadata": {},
   "source": [
    "# Start, stop, end"
   ]
  },
  {
   "cell_type": "code",
   "execution_count": 24,
   "id": "8382593e",
   "metadata": {},
   "outputs": [
    {
     "name": "stdout",
     "output_type": "stream",
     "text": [
      "2\n",
      "5\n",
      "8\n",
      "11\n"
     ]
    }
   ],
   "source": [
    "for i in range(2,12,3):\n",
    "    print(i)"
   ]
  },
  {
   "cell_type": "code",
   "execution_count": 25,
   "id": "d4bed208",
   "metadata": {},
   "outputs": [
    {
     "name": "stdout",
     "output_type": "stream",
     "text": [
      "2 5 8 11 "
     ]
    }
   ],
   "source": [
    "for i in range(2,12,3):\n",
    "    print(i,end=\" \")"
   ]
  },
  {
   "cell_type": "code",
   "execution_count": 26,
   "id": "e86096e8",
   "metadata": {},
   "outputs": [],
   "source": [
    "for i in range(2,12,3):\n",
    "    pass"
   ]
  },
  {
   "cell_type": "code",
   "execution_count": 27,
   "id": "b41d68be",
   "metadata": {},
   "outputs": [
    {
     "name": "stdout",
     "output_type": "stream",
     "text": [
      "2 5 8 11 14 17 "
     ]
    }
   ],
   "source": [
    "for i in range(2,19,3):\n",
    "    print(i,end=\" \")"
   ]
  },
  {
   "cell_type": "markdown",
   "id": "1035bc73",
   "metadata": {},
   "source": [
    "# using range for iteration"
   ]
  },
  {
   "cell_type": "code",
   "execution_count": 28,
   "id": "1f97244a",
   "metadata": {},
   "outputs": [
    {
     "name": "stdout",
     "output_type": "stream",
     "text": [
      "10 20 30 40 \n"
     ]
    }
   ],
   "source": [
    "I=[10,20,30,40]\n",
    "for i in range(len(I)):\n",
    "    print(I[i], end=\" \")\n",
    "print()"
   ]
  },
  {
   "cell_type": "markdown",
   "id": "5dde6e69",
   "metadata": {},
   "source": [
    "# Q-1. Write a python prorgramme to print the number from 1 to 10, skip 5 and 10."
   ]
  },
  {
   "cell_type": "code",
   "execution_count": 29,
   "id": "e116675f",
   "metadata": {},
   "outputs": [
    {
     "name": "stdout",
     "output_type": "stream",
     "text": [
      "1\n",
      "2\n",
      "3\n",
      "4\n",
      "6\n",
      "7\n",
      "8\n",
      "9\n"
     ]
    }
   ],
   "source": [
    "for k in range(1,11):\n",
    "    if k==5 or k==10:\n",
    "        continue\n",
    "    print(k)\n",
    "    if k==10:\n",
    "        break"
   ]
  },
  {
   "cell_type": "markdown",
   "id": "787b3741",
   "metadata": {},
   "source": [
    "# Q-- Print the sum of first 10 natural number."
   ]
  },
  {
   "cell_type": "code",
   "execution_count": 30,
   "id": "80f4ac86",
   "metadata": {},
   "outputs": [
    {
     "name": "stdout",
     "output_type": "stream",
     "text": [
      "sum of first 10 natural number: 55\n"
     ]
    }
   ],
   "source": [
    "sum=0\n",
    "for i in range(1,11):\n",
    "    sum=sum+i\n",
    "print(\"sum of first 10 natural number:\",sum)"
   ]
  },
  {
   "cell_type": "code",
   "execution_count": 31,
   "id": "5f14f91e",
   "metadata": {},
   "outputs": [
    {
     "name": "stdout",
     "output_type": "stream",
     "text": [
      "sum of first 10 natural number: 1\n",
      "sum of first 10 natural number: 3\n",
      "sum of first 10 natural number: 6\n",
      "sum of first 10 natural number: 10\n",
      "sum of first 10 natural number: 15\n",
      "sum of first 10 natural number: 21\n",
      "sum of first 10 natural number: 28\n",
      "sum of first 10 natural number: 36\n",
      "sum of first 10 natural number: 45\n",
      "sum of first 10 natural number: 55\n"
     ]
    }
   ],
   "source": [
    "sum=0\n",
    "for i in range(1,11):\n",
    "    sum=sum+i\n",
    "    print(\"sum of first 10 natural number:\",sum)"
   ]
  },
  {
   "cell_type": "code",
   "execution_count": 32,
   "id": "8df9d5ed",
   "metadata": {},
   "outputs": [
    {
     "name": "stdout",
     "output_type": "stream",
     "text": [
      "sum of first 10 natural number: 820\n"
     ]
    }
   ],
   "source": [
    "sum=0\n",
    "for i in range(1,41):\n",
    "    sum=sum+i\n",
    "print(\"sum of first 10 natural number:\",sum)"
   ]
  },
  {
   "cell_type": "markdown",
   "id": "2d765a16",
   "metadata": {},
   "source": [
    "# For- else loop"
   ]
  },
  {
   "cell_type": "code",
   "execution_count": 33,
   "id": "2814f2ff",
   "metadata": {},
   "outputs": [
    {
     "name": "stdout",
     "output_type": "stream",
     "text": [
      "1\n",
      "2\n",
      "3\n",
      "No Break\n",
      "\n"
     ]
    }
   ],
   "source": [
    "for i in range(1,4):\n",
    "    print(i)\n",
    "else: # Executed vecause on break in for\n",
    "    print(\"No Break\\n\")"
   ]
  },
  {
   "cell_type": "markdown",
   "id": "dbd396b6",
   "metadata": {},
   "source": [
    "# No Break "
   ]
  },
  {
   "cell_type": "code",
   "execution_count": 34,
   "id": "4c348fde",
   "metadata": {},
   "outputs": [
    {
     "name": "stdout",
     "output_type": "stream",
     "text": [
      "1\n"
     ]
    }
   ],
   "source": [
    "for i in range(1,4):\n",
    "    print(i)\n",
    "    break"
   ]
  },
  {
   "cell_type": "markdown",
   "id": "98bb173f",
   "metadata": {},
   "source": [
    "# Nested loop"
   ]
  },
  {
   "cell_type": "code",
   "execution_count": 35,
   "id": "4658c104",
   "metadata": {},
   "outputs": [
    {
     "name": "stdout",
     "output_type": "stream",
     "text": [
      "red apple\n",
      "red banana\n",
      "red cherry\n",
      "big apple\n",
      "big banana\n",
      "big cherry\n",
      "testy apple\n",
      "testy banana\n",
      "testy cherry\n"
     ]
    }
   ],
   "source": [
    "adj=[\"red\",\"big\",\"testy\"]\n",
    "fruits=[\"apple\",\"banana\",\"cherry\"]\n",
    "for x in adj:\n",
    "    for y in fruits:\n",
    "        print(x,y)"
   ]
  },
  {
   "cell_type": "code",
   "execution_count": 36,
   "id": "4ae74bd4",
   "metadata": {},
   "outputs": [
    {
     "name": "stdout",
     "output_type": "stream",
     "text": [
      "5 apple\n",
      "5 banana\n",
      "5 cherry\n",
      "9 apple\n",
      "9 banana\n",
      "9 cherry\n",
      "7 apple\n",
      "7 banana\n",
      "7 cherry\n"
     ]
    }
   ],
   "source": [
    "adj=[5,9,7]\n",
    "fruits=[\"apple\",\"banana\",\"cherry\"]\n",
    "for x in adj:\n",
    "    for y in fruits:\n",
    "        print(x,y)"
   ]
  },
  {
   "cell_type": "markdown",
   "id": "3607b6ed",
   "metadata": {},
   "source": [
    "# Q-- write down 1 to 10 number and their coresponding square value"
   ]
  },
  {
   "cell_type": "code",
   "execution_count": 37,
   "id": "9411bc4f",
   "metadata": {},
   "outputs": [
    {
     "name": "stdout",
     "output_type": "stream",
     "text": [
      "1 1\n",
      "2 4\n",
      "3 9\n",
      "4 16\n",
      "5 25\n",
      "6 36\n",
      "7 49\n",
      "8 64\n",
      "9 81\n",
      "10 100\n"
     ]
    }
   ],
   "source": [
    "for i in range(1,11):\n",
    "    print(i,i**2)"
   ]
  },
  {
   "cell_type": "code",
   "execution_count": null,
   "id": "a5b15f69",
   "metadata": {},
   "outputs": [],
   "source": []
  }
 ],
 "metadata": {
  "kernelspec": {
   "display_name": "Python 3 (ipykernel)",
   "language": "python",
   "name": "python3"
  },
  "language_info": {
   "codemirror_mode": {
    "name": "ipython",
    "version": 3
   },
   "file_extension": ".py",
   "mimetype": "text/x-python",
   "name": "python",
   "nbconvert_exporter": "python",
   "pygments_lexer": "ipython3",
   "version": "3.11.5"
  }
 },
 "nbformat": 4,
 "nbformat_minor": 5
}
