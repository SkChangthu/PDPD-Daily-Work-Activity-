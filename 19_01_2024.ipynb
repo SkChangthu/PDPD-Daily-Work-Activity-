{
 "cells": [
  {
   "cell_type": "markdown",
   "id": "1301452a",
   "metadata": {},
   "source": [
    "# 1. Arithmetic Operators"
   ]
  },
  {
   "cell_type": "code",
   "execution_count": 1,
   "id": "339ec95f",
   "metadata": {},
   "outputs": [
    {
     "data": {
      "text/plain": [
       "11"
      ]
     },
     "execution_count": 1,
     "metadata": {},
     "output_type": "execute_result"
    }
   ],
   "source": [
    "x=5\n",
    "y=6\n",
    "x+y"
   ]
  },
  {
   "cell_type": "code",
   "execution_count": 2,
   "id": "ab0f18fb",
   "metadata": {},
   "outputs": [],
   "source": [
    "import operator "
   ]
  },
  {
   "cell_type": "code",
   "execution_count": 5,
   "id": "d548bf86",
   "metadata": {},
   "outputs": [
    {
     "data": {
      "text/plain": [
       "11"
      ]
     },
     "execution_count": 5,
     "metadata": {},
     "output_type": "execute_result"
    }
   ],
   "source": [
    "operator.add(x,y)"
   ]
  },
  {
   "cell_type": "code",
   "execution_count": null,
   "id": "bc5e5995",
   "metadata": {},
   "outputs": [],
   "source": [
    "print(operator.add(x,y))"
   ]
  },
  {
   "cell_type": "markdown",
   "id": "382d4cce",
   "metadata": {},
   "source": [
    "## Alias Name convension "
   ]
  },
  {
   "cell_type": "code",
   "execution_count": 6,
   "id": "045c7b5d",
   "metadata": {},
   "outputs": [],
   "source": [
    "import operator as op"
   ]
  },
  {
   "cell_type": "code",
   "execution_count": 7,
   "id": "be56a65c",
   "metadata": {},
   "outputs": [
    {
     "data": {
      "text/plain": [
       "11"
      ]
     },
     "execution_count": 7,
     "metadata": {},
     "output_type": "execute_result"
    }
   ],
   "source": [
    "op.add(x,y)"
   ]
  },
  {
   "cell_type": "code",
   "execution_count": null,
   "id": "6c2ff3c7",
   "metadata": {},
   "outputs": [],
   "source": [
    "import operator as sk "
   ]
  },
  {
   "cell_type": "code",
   "execution_count": 9,
   "id": "cac7acb1",
   "metadata": {},
   "outputs": [
    {
     "data": {
      "text/plain": [
       "11"
      ]
     },
     "execution_count": 9,
     "metadata": {},
     "output_type": "execute_result"
    }
   ],
   "source": [
    "sk.add(x,y)"
   ]
  },
  {
   "cell_type": "markdown",
   "id": "0b586a6d",
   "metadata": {},
   "source": [
    "## Substruction "
   ]
  },
  {
   "cell_type": "code",
   "execution_count": 11,
   "id": "bc397d28",
   "metadata": {},
   "outputs": [
    {
     "data": {
      "text/plain": [
       "7"
      ]
     },
     "execution_count": 11,
     "metadata": {},
     "output_type": "execute_result"
    }
   ],
   "source": [
    "x=10\n",
    "y=3\n",
    "x-y"
   ]
  },
  {
   "cell_type": "code",
   "execution_count": 13,
   "id": "21ad3a7c",
   "metadata": {},
   "outputs": [],
   "source": [
    "import operator as sk"
   ]
  },
  {
   "cell_type": "code",
   "execution_count": 14,
   "id": "7a734b92",
   "metadata": {},
   "outputs": [
    {
     "data": {
      "text/plain": [
       "7"
      ]
     },
     "execution_count": 14,
     "metadata": {},
     "output_type": "execute_result"
    }
   ],
   "source": [
    "sk.sub(x,y)"
   ]
  },
  {
   "cell_type": "markdown",
   "id": "08776a26",
   "metadata": {},
   "source": [
    "## Multiplication "
   ]
  },
  {
   "cell_type": "code",
   "execution_count": 15,
   "id": "527f686a",
   "metadata": {},
   "outputs": [
    {
     "data": {
      "text/plain": [
       "30"
      ]
     },
     "execution_count": 15,
     "metadata": {},
     "output_type": "execute_result"
    }
   ],
   "source": [
    "x=5\n",
    "y=6\n",
    "x*y"
   ]
  },
  {
   "cell_type": "code",
   "execution_count": 16,
   "id": "162d6ee2",
   "metadata": {},
   "outputs": [],
   "source": [
    "import operator as sk"
   ]
  },
  {
   "cell_type": "code",
   "execution_count": 17,
   "id": "2c3298c4",
   "metadata": {},
   "outputs": [
    {
     "data": {
      "text/plain": [
       "30"
      ]
     },
     "execution_count": 17,
     "metadata": {},
     "output_type": "execute_result"
    }
   ],
   "source": [
    "sk.mul(x,y)"
   ]
  },
  {
   "cell_type": "markdown",
   "id": "ed43ba9b",
   "metadata": {},
   "source": [
    "## *** Exponentiation: Left operand raised to the power of right  **  operator.pow(a,b)"
   ]
  },
  {
   "cell_type": "code",
   "execution_count": 22,
   "id": "549f2d9e",
   "metadata": {},
   "outputs": [
    {
     "data": {
      "text/plain": [
       "59049"
      ]
     },
     "execution_count": 22,
     "metadata": {},
     "output_type": "execute_result"
    }
   ],
   "source": [
    "x=3\n",
    "y=10\n",
    "x**y"
   ]
  },
  {
   "cell_type": "code",
   "execution_count": 23,
   "id": "d998dcad",
   "metadata": {},
   "outputs": [],
   "source": [
    "import operator as sk"
   ]
  },
  {
   "cell_type": "code",
   "execution_count": 24,
   "id": "738ed5d3",
   "metadata": {},
   "outputs": [
    {
     "data": {
      "text/plain": [
       "59049"
      ]
     },
     "execution_count": 24,
     "metadata": {},
     "output_type": "execute_result"
    }
   ],
   "source": [
    "sk.pow(x,y)"
   ]
  },
  {
   "cell_type": "markdown",
   "id": "3a70e755",
   "metadata": {},
   "source": [
    "## Division"
   ]
  },
  {
   "cell_type": "code",
   "execution_count": 18,
   "id": "6486f6dc",
   "metadata": {},
   "outputs": [
    {
     "data": {
      "text/plain": [
       "10.0"
      ]
     },
     "execution_count": 18,
     "metadata": {},
     "output_type": "execute_result"
    }
   ],
   "source": [
    "x=30\n",
    "y=3\n",
    "x/y"
   ]
  },
  {
   "cell_type": "code",
   "execution_count": 19,
   "id": "7da54373",
   "metadata": {},
   "outputs": [],
   "source": [
    "import operator as sk"
   ]
  },
  {
   "cell_type": "code",
   "execution_count": 21,
   "id": "c98b1282",
   "metadata": {},
   "outputs": [
    {
     "data": {
      "text/plain": [
       "10.0"
      ]
     },
     "execution_count": 21,
     "metadata": {},
     "output_type": "execute_result"
    }
   ],
   "source": [
    "sk.truediv(x,y)"
   ]
  },
  {
   "cell_type": "markdown",
   "id": "a7311d84",
   "metadata": {},
   "source": [
    "## Floor division: Equivilant to math.floor(a/b)"
   ]
  },
  {
   "cell_type": "code",
   "execution_count": 25,
   "id": "5169d516",
   "metadata": {},
   "outputs": [
    {
     "data": {
      "text/plain": [
       "1.2"
      ]
     },
     "execution_count": 25,
     "metadata": {},
     "output_type": "execute_result"
    }
   ],
   "source": [
    "x=6\n",
    "y=5\n",
    "x/y"
   ]
  },
  {
   "cell_type": "code",
   "execution_count": 26,
   "id": "db9a3abb",
   "metadata": {},
   "outputs": [
    {
     "data": {
      "text/plain": [
       "1"
      ]
     },
     "execution_count": 26,
     "metadata": {},
     "output_type": "execute_result"
    }
   ],
   "source": [
    "x//y"
   ]
  },
  {
   "cell_type": "code",
   "execution_count": 27,
   "id": "8b777e3d",
   "metadata": {},
   "outputs": [
    {
     "data": {
      "text/plain": [
       "1"
      ]
     },
     "execution_count": 27,
     "metadata": {},
     "output_type": "execute_result"
    }
   ],
   "source": [
    "sk.floordiv(x,y)"
   ]
  },
  {
   "cell_type": "code",
   "execution_count": 30,
   "id": "41e332ff",
   "metadata": {},
   "outputs": [],
   "source": [
    "import math as ipcs"
   ]
  },
  {
   "cell_type": "code",
   "execution_count": 31,
   "id": "56966508",
   "metadata": {},
   "outputs": [
    {
     "data": {
      "text/plain": [
       "1"
      ]
     },
     "execution_count": 31,
     "metadata": {},
     "output_type": "execute_result"
    }
   ],
   "source": [
    "ipcs.floor(x/y)"
   ]
  },
  {
   "cell_type": "markdown",
   "id": "45f43126",
   "metadata": {},
   "source": [
    "## Modulus: Reminder of a/b %"
   ]
  },
  {
   "cell_type": "code",
   "execution_count": 32,
   "id": "59c2ce9d",
   "metadata": {},
   "outputs": [
    {
     "data": {
      "text/plain": [
       "2"
      ]
     },
     "execution_count": 32,
     "metadata": {},
     "output_type": "execute_result"
    }
   ],
   "source": [
    "x=11\n",
    "y=3\n",
    "x%y"
   ]
  },
  {
   "cell_type": "code",
   "execution_count": 34,
   "id": "ee130f53",
   "metadata": {},
   "outputs": [],
   "source": [
    "import operator as sk"
   ]
  },
  {
   "cell_type": "code",
   "execution_count": 35,
   "id": "c61fa5d5",
   "metadata": {},
   "outputs": [
    {
     "data": {
      "text/plain": [
       "2"
      ]
     },
     "execution_count": 35,
     "metadata": {},
     "output_type": "execute_result"
    }
   ],
   "source": [
    "sk.mod(x,y)"
   ]
  },
  {
   "cell_type": "markdown",
   "id": "bbff3f5b",
   "metadata": {},
   "source": [
    "## 2. Assignment operator"
   ]
  },
  {
   "cell_type": "code",
   "execution_count": 36,
   "id": "61f9a7aa",
   "metadata": {},
   "outputs": [
    {
     "data": {
      "text/plain": [
       "5"
      ]
     },
     "execution_count": 36,
     "metadata": {},
     "output_type": "execute_result"
    }
   ],
   "source": [
    "x=5\n",
    "x"
   ]
  },
  {
   "cell_type": "code",
   "execution_count": 37,
   "id": "c2cf93c3",
   "metadata": {},
   "outputs": [],
   "source": [
    "x+=6"
   ]
  },
  {
   "cell_type": "code",
   "execution_count": 38,
   "id": "e97a0450",
   "metadata": {},
   "outputs": [
    {
     "name": "stdout",
     "output_type": "stream",
     "text": [
      "11\n"
     ]
    }
   ],
   "source": [
    "print(x)"
   ]
  },
  {
   "cell_type": "code",
   "execution_count": 40,
   "id": "83a38ad9",
   "metadata": {},
   "outputs": [],
   "source": [
    "import operator as sk"
   ]
  },
  {
   "cell_type": "code",
   "execution_count": 42,
   "id": "50a8d76a",
   "metadata": {},
   "outputs": [
    {
     "data": {
      "text/plain": [
       "13"
      ]
     },
     "execution_count": 42,
     "metadata": {},
     "output_type": "execute_result"
    }
   ],
   "source": [
    "sk.iadd(7,6)"
   ]
  },
  {
   "cell_type": "code",
   "execution_count": 43,
   "id": "3de4d3f6",
   "metadata": {},
   "outputs": [
    {
     "data": {
      "text/plain": [
       "119"
      ]
     },
     "execution_count": 43,
     "metadata": {},
     "output_type": "execute_result"
    }
   ],
   "source": [
    "x=119\n",
    "x"
   ]
  },
  {
   "cell_type": "code",
   "execution_count": 44,
   "id": "096766ca",
   "metadata": {},
   "outputs": [],
   "source": [
    "x-=19"
   ]
  },
  {
   "cell_type": "code",
   "execution_count": 45,
   "id": "bcbdca4f",
   "metadata": {},
   "outputs": [
    {
     "name": "stdout",
     "output_type": "stream",
     "text": [
      "100\n"
     ]
    }
   ],
   "source": [
    "print(x)"
   ]
  },
  {
   "cell_type": "code",
   "execution_count": 46,
   "id": "8f654a0b",
   "metadata": {},
   "outputs": [],
   "source": [
    "import operator as sk"
   ]
  },
  {
   "cell_type": "code",
   "execution_count": 47,
   "id": "1e253b7b",
   "metadata": {},
   "outputs": [
    {
     "data": {
      "text/plain": [
       "100"
      ]
     },
     "execution_count": 47,
     "metadata": {},
     "output_type": "execute_result"
    }
   ],
   "source": [
    "sk.isub(119,19)"
   ]
  },
  {
   "cell_type": "markdown",
   "id": "02e60e2b",
   "metadata": {},
   "source": [
    "## *= operator.imul(a,b)"
   ]
  },
  {
   "cell_type": "code",
   "execution_count": 49,
   "id": "6d705b4d",
   "metadata": {},
   "outputs": [],
   "source": [
    "x=2\n",
    "x*=3"
   ]
  },
  {
   "cell_type": "code",
   "execution_count": 50,
   "id": "57c48703",
   "metadata": {},
   "outputs": [],
   "source": [
    "import operator as sk "
   ]
  },
  {
   "cell_type": "code",
   "execution_count": 51,
   "id": "e5d7286b",
   "metadata": {},
   "outputs": [
    {
     "data": {
      "text/plain": [
       "6"
      ]
     },
     "execution_count": 51,
     "metadata": {},
     "output_type": "execute_result"
    }
   ],
   "source": [
    "sk.imul(2,3)"
   ]
  },
  {
   "cell_type": "markdown",
   "id": "4f26fb37",
   "metadata": {},
   "source": [
    "## /= operator.itruediv(a,b)"
   ]
  },
  {
   "cell_type": "code",
   "execution_count": 52,
   "id": "0fb1f2bf",
   "metadata": {},
   "outputs": [],
   "source": [
    "x=6\n",
    "x/=3"
   ]
  },
  {
   "cell_type": "code",
   "execution_count": 53,
   "id": "a989d778",
   "metadata": {},
   "outputs": [],
   "source": [
    "import operator as sk"
   ]
  },
  {
   "cell_type": "code",
   "execution_count": 55,
   "id": "76a3e493",
   "metadata": {},
   "outputs": [
    {
     "data": {
      "text/plain": [
       "2.0"
      ]
     },
     "execution_count": 55,
     "metadata": {},
     "output_type": "execute_result"
    }
   ],
   "source": [
    "sk.itruediv(6,3)"
   ]
  },
  {
   "cell_type": "markdown",
   "id": "5cbf53cf",
   "metadata": {},
   "source": [
    "## //=  "
   ]
  },
  {
   "cell_type": "code",
   "execution_count": 56,
   "id": "2175f616",
   "metadata": {},
   "outputs": [],
   "source": [
    "x=6\n",
    "x//=5"
   ]
  },
  {
   "cell_type": "code",
   "execution_count": 57,
   "id": "7daf29cb",
   "metadata": {},
   "outputs": [],
   "source": [
    "import operator as sk"
   ]
  },
  {
   "cell_type": "code",
   "execution_count": 58,
   "id": "6ddae2dd",
   "metadata": {},
   "outputs": [
    {
     "data": {
      "text/plain": [
       "1"
      ]
     },
     "execution_count": 58,
     "metadata": {},
     "output_type": "execute_result"
    }
   ],
   "source": [
    "sk.ifloordiv(6,5)"
   ]
  },
  {
   "cell_type": "markdown",
   "id": "5cffe773",
   "metadata": {},
   "source": [
    "## %="
   ]
  },
  {
   "cell_type": "code",
   "execution_count": 59,
   "id": "321cb760",
   "metadata": {},
   "outputs": [],
   "source": [
    "x=11\n",
    "x%=3"
   ]
  },
  {
   "cell_type": "code",
   "execution_count": 76,
   "id": "8990d237",
   "metadata": {},
   "outputs": [
    {
     "name": "stdout",
     "output_type": "stream",
     "text": [
      "7\n"
     ]
    }
   ],
   "source": [
    "import operator as sk \n",
    "print(x)"
   ]
  },
  {
   "cell_type": "code",
   "execution_count": 61,
   "id": "25cb1160",
   "metadata": {},
   "outputs": [
    {
     "data": {
      "text/plain": [
       "2"
      ]
     },
     "execution_count": 61,
     "metadata": {},
     "output_type": "execute_result"
    }
   ],
   "source": [
    "sk.imod(11,3)"
   ]
  },
  {
   "cell_type": "markdown",
   "id": "b68540a7",
   "metadata": {},
   "source": [
    "## &="
   ]
  },
  {
   "cell_type": "code",
   "execution_count": 72,
   "id": "774b4ad9",
   "metadata": {},
   "outputs": [],
   "source": [
    "x=11\n",
    "x&=3"
   ]
  },
  {
   "cell_type": "code",
   "execution_count": 73,
   "id": "2d3a0bbf",
   "metadata": {},
   "outputs": [
    {
     "name": "stdout",
     "output_type": "stream",
     "text": [
      "3\n"
     ]
    }
   ],
   "source": [
    "print(x)"
   ]
  },
  {
   "cell_type": "markdown",
   "id": "15bc5763",
   "metadata": {},
   "source": [
    "## |="
   ]
  },
  {
   "cell_type": "code",
   "execution_count": 74,
   "id": "20534d94",
   "metadata": {},
   "outputs": [],
   "source": [
    "x=3\n",
    "x|=4"
   ]
  },
  {
   "cell_type": "code",
   "execution_count": 75,
   "id": "38de9eca",
   "metadata": {},
   "outputs": [
    {
     "name": "stdout",
     "output_type": "stream",
     "text": [
      "7\n"
     ]
    }
   ],
   "source": [
    "import operator as sk\n",
    "print(x)"
   ]
  },
  {
   "cell_type": "code",
   "execution_count": 78,
   "id": "a4c7bc9e",
   "metadata": {},
   "outputs": [
    {
     "data": {
      "text/plain": [
       "7"
      ]
     },
     "execution_count": 78,
     "metadata": {},
     "output_type": "execute_result"
    }
   ],
   "source": [
    "sk.ior(3,4)"
   ]
  },
  {
   "cell_type": "markdown",
   "id": "4df5fd19",
   "metadata": {},
   "source": [
    "## ^= "
   ]
  },
  {
   "cell_type": "code",
   "execution_count": 79,
   "id": "e3952f35",
   "metadata": {},
   "outputs": [],
   "source": [
    "x=5\n",
    "x^=2"
   ]
  },
  {
   "cell_type": "code",
   "execution_count": 80,
   "id": "f6127eca",
   "metadata": {},
   "outputs": [
    {
     "name": "stdout",
     "output_type": "stream",
     "text": [
      "7\n"
     ]
    }
   ],
   "source": [
    "import operator as sk\n",
    "print(x)"
   ]
  },
  {
   "cell_type": "code",
   "execution_count": 81,
   "id": "f4c9853d",
   "metadata": {},
   "outputs": [
    {
     "data": {
      "text/plain": [
       "7"
      ]
     },
     "execution_count": 81,
     "metadata": {},
     "output_type": "execute_result"
    }
   ],
   "source": [
    "sk.ixor(5,2)"
   ]
  },
  {
   "cell_type": "markdown",
   "id": "7640db38",
   "metadata": {},
   "source": [
    "## >>="
   ]
  },
  {
   "cell_type": "code",
   "execution_count": 82,
   "id": "36c4bb77",
   "metadata": {},
   "outputs": [],
   "source": [
    "x=5\n",
    "x>>=2"
   ]
  },
  {
   "cell_type": "code",
   "execution_count": 83,
   "id": "e3c0dc8c",
   "metadata": {},
   "outputs": [
    {
     "name": "stdout",
     "output_type": "stream",
     "text": [
      "1\n"
     ]
    }
   ],
   "source": [
    "import operator as sk \n",
    "print(x)"
   ]
  },
  {
   "cell_type": "code",
   "execution_count": 84,
   "id": "6391db7a",
   "metadata": {},
   "outputs": [
    {
     "data": {
      "text/plain": [
       "1"
      ]
     },
     "execution_count": 84,
     "metadata": {},
     "output_type": "execute_result"
    }
   ],
   "source": [
    "sk.irshift(5,2)"
   ]
  },
  {
   "cell_type": "markdown",
   "id": "d3d1299a",
   "metadata": {},
   "source": [
    "## <<="
   ]
  },
  {
   "cell_type": "code",
   "execution_count": 85,
   "id": "fc8063bf",
   "metadata": {},
   "outputs": [],
   "source": [
    "x=5\n",
    "x<<=2"
   ]
  },
  {
   "cell_type": "code",
   "execution_count": 86,
   "id": "70b5a08e",
   "metadata": {},
   "outputs": [
    {
     "name": "stdout",
     "output_type": "stream",
     "text": [
      "20\n"
     ]
    }
   ],
   "source": [
    "import operator as sk\n",
    "print(x)"
   ]
  },
  {
   "cell_type": "code",
   "execution_count": 87,
   "id": "e26913a4",
   "metadata": {},
   "outputs": [
    {
     "data": {
      "text/plain": [
       "20"
      ]
     },
     "execution_count": 87,
     "metadata": {},
     "output_type": "execute_result"
    }
   ],
   "source": [
    "sk.ilshift(5,2)"
   ]
  },
  {
   "cell_type": "markdown",
   "id": "7d2915d3",
   "metadata": {},
   "source": [
    "# Logical Operator"
   ]
  },
  {
   "cell_type": "markdown",
   "id": "d5de781c",
   "metadata": {},
   "source": [
    "## and True if both are true "
   ]
  },
  {
   "cell_type": "code",
   "execution_count": 88,
   "id": "be663536",
   "metadata": {},
   "outputs": [
    {
     "data": {
      "text/plain": [
       "True"
      ]
     },
     "execution_count": 88,
     "metadata": {},
     "output_type": "execute_result"
    }
   ],
   "source": [
    "x=5\n",
    "y=6\n",
    "x>1 and y<10"
   ]
  },
  {
   "cell_type": "markdown",
   "id": "fe98c810",
   "metadata": {},
   "source": [
    "## or  True if at leasr one os true "
   ]
  },
  {
   "cell_type": "code",
   "execution_count": 89,
   "id": "ad94a46c",
   "metadata": {},
   "outputs": [
    {
     "data": {
      "text/plain": [
       "True"
      ]
     },
     "execution_count": 89,
     "metadata": {},
     "output_type": "execute_result"
    }
   ],
   "source": [
    "x=5\n",
    "y=6\n",
    "x>6 or y<10"
   ]
  },
  {
   "cell_type": "markdown",
   "id": "86c4b4b0",
   "metadata": {},
   "source": [
    "## not Returns true if an expression evaluites to dalse and vice-versa"
   ]
  },
  {
   "cell_type": "code",
   "execution_count": 91,
   "id": "34196893",
   "metadata": {},
   "outputs": [
    {
     "data": {
      "text/plain": [
       "False"
      ]
     },
     "execution_count": 91,
     "metadata": {},
     "output_type": "execute_result"
    }
   ],
   "source": [
    "x=5\n",
    "not x>1"
   ]
  },
  {
   "cell_type": "markdown",
   "id": "f032bc97",
   "metadata": {},
   "source": [
    "# Identity Operator "
   ]
  },
  {
   "cell_type": "markdown",
   "id": "dfd240bc",
   "metadata": {},
   "source": [
    "## is  operators_(a,d)"
   ]
  },
  {
   "cell_type": "code",
   "execution_count": 92,
   "id": "5761c378",
   "metadata": {},
   "outputs": [
    {
     "data": {
      "text/plain": [
       "False"
      ]
     },
     "execution_count": 92,
     "metadata": {},
     "output_type": "execute_result"
    }
   ],
   "source": [
    "x=5\n",
    "y=6\n",
    "x is y"
   ]
  },
  {
   "cell_type": "markdown",
   "id": "542b3b3c",
   "metadata": {},
   "source": [
    "## is not operator.is_not(a,b)"
   ]
  },
  {
   "cell_type": "code",
   "execution_count": 93,
   "id": "6e64b0e8",
   "metadata": {},
   "outputs": [
    {
     "data": {
      "text/plain": [
       "True"
      ]
     },
     "execution_count": 93,
     "metadata": {},
     "output_type": "execute_result"
    }
   ],
   "source": [
    "x=5\n",
    "y=6\n",
    "x is not y"
   ]
  },
  {
   "cell_type": "markdown",
   "id": "f8d0f0e1",
   "metadata": {},
   "source": [
    "# Membershib Test Operators"
   ]
  },
  {
   "cell_type": "markdown",
   "id": "d4762dc6",
   "metadata": {},
   "source": [
    "## in operator.contains(a,b)"
   ]
  },
  {
   "cell_type": "code",
   "execution_count": 94,
   "id": "404b08cd",
   "metadata": {},
   "outputs": [
    {
     "data": {
      "text/plain": [
       "True"
      ]
     },
     "execution_count": 94,
     "metadata": {},
     "output_type": "execute_result"
    }
   ],
   "source": [
    "nums=[1,2,3,4,5]\n",
    "1 in nums"
   ]
  },
  {
   "cell_type": "code",
   "execution_count": 95,
   "id": "a7d7379b",
   "metadata": {},
   "outputs": [
    {
     "data": {
      "text/plain": [
       "False"
      ]
     },
     "execution_count": 95,
     "metadata": {},
     "output_type": "execute_result"
    }
   ],
   "source": [
    "10 in nums"
   ]
  },
  {
   "cell_type": "code",
   "execution_count": 96,
   "id": "552b5ca8",
   "metadata": {},
   "outputs": [
    {
     "data": {
      "text/plain": [
       "True"
      ]
     },
     "execution_count": 96,
     "metadata": {},
     "output_type": "execute_result"
    }
   ],
   "source": [
    "3 in nums"
   ]
  },
  {
   "cell_type": "code",
   "execution_count": 103,
   "id": "50cd47e1",
   "metadata": {},
   "outputs": [
    {
     "data": {
      "text/plain": [
       "True"
      ]
     },
     "execution_count": 103,
     "metadata": {},
     "output_type": "execute_result"
    }
   ],
   "source": [
    "import operator as sk \n",
    "sk.contains(nums,2)\n"
   ]
  },
  {
   "cell_type": "markdown",
   "id": "53ac54ec",
   "metadata": {},
   "source": [
    "## not operator.contains(a,b)"
   ]
  },
  {
   "cell_type": "code",
   "execution_count": 97,
   "id": "b109937e",
   "metadata": {},
   "outputs": [
    {
     "data": {
      "text/plain": [
       "False"
      ]
     },
     "execution_count": 97,
     "metadata": {},
     "output_type": "execute_result"
    }
   ],
   "source": [
    "nums=[1,2,3,4,5]\n",
    "1 not in nums"
   ]
  },
  {
   "cell_type": "code",
   "execution_count": 98,
   "id": "c994f8eb",
   "metadata": {},
   "outputs": [
    {
     "data": {
      "text/plain": [
       "True"
      ]
     },
     "execution_count": 98,
     "metadata": {},
     "output_type": "execute_result"
    }
   ],
   "source": [
    "10 not in nums"
   ]
  },
  {
   "cell_type": "code",
   "execution_count": 99,
   "id": "bc2231c5",
   "metadata": {},
   "outputs": [
    {
     "data": {
      "text/plain": [
       "False"
      ]
     },
     "execution_count": 99,
     "metadata": {},
     "output_type": "execute_result"
    }
   ],
   "source": [
    "'str' not in 'string'"
   ]
  },
  {
   "cell_type": "code",
   "execution_count": 105,
   "id": "8d9969ef",
   "metadata": {},
   "outputs": [
    {
     "data": {
      "text/plain": [
       "False"
      ]
     },
     "execution_count": 105,
     "metadata": {},
     "output_type": "execute_result"
    }
   ],
   "source": [
    "import operator as sk\n",
    "not sk.contains(nums,2)"
   ]
  },
  {
   "cell_type": "markdown",
   "id": "a21a5c82",
   "metadata": {},
   "source": [
    "# Bitwise Operators"
   ]
  },
  {
   "cell_type": "markdown",
   "id": "403f7259",
   "metadata": {},
   "source": [
    "## &  operator.and_(a,b)"
   ]
  },
  {
   "cell_type": "code",
   "execution_count": 106,
   "id": "380bec0a",
   "metadata": {},
   "outputs": [],
   "source": [
    "x=5\n",
    "y=10\n",
    "z=x & y"
   ]
  },
  {
   "cell_type": "code",
   "execution_count": 107,
   "id": "2c89d5b0",
   "metadata": {},
   "outputs": [
    {
     "name": "stdout",
     "output_type": "stream",
     "text": [
      "0\n"
     ]
    }
   ],
   "source": [
    "import operator as sk\n",
    "print(z)"
   ]
  },
  {
   "cell_type": "code",
   "execution_count": 108,
   "id": "62926cfa",
   "metadata": {},
   "outputs": [
    {
     "data": {
      "text/plain": [
       "0"
      ]
     },
     "execution_count": 108,
     "metadata": {},
     "output_type": "execute_result"
    }
   ],
   "source": [
    "sk.and_(x,y)"
   ]
  },
  {
   "cell_type": "markdown",
   "id": "6b51cbc5",
   "metadata": {},
   "source": [
    "## ^ operator.xor(a,b)"
   ]
  },
  {
   "cell_type": "code",
   "execution_count": 112,
   "id": "b1b8c525",
   "metadata": {},
   "outputs": [
    {
     "data": {
      "text/plain": [
       "15"
      ]
     },
     "execution_count": 112,
     "metadata": {},
     "output_type": "execute_result"
    }
   ],
   "source": [
    "x=5\n",
    "y=10\n",
    "z=x | y\n",
    "z"
   ]
  },
  {
   "cell_type": "markdown",
   "id": "94257ea2",
   "metadata": {},
   "source": [
    "# LIST"
   ]
  },
  {
   "cell_type": "code",
   "execution_count": 113,
   "id": "cd5c084c",
   "metadata": {},
   "outputs": [
    {
     "name": "stdout",
     "output_type": "stream",
     "text": [
      "['banana', 'apple', 'orange']\n"
     ]
    }
   ],
   "source": [
    "fruits=[\"banana\",\"apple\",\"orange\"]\n",
    "print(fruits)"
   ]
  },
  {
   "cell_type": "markdown",
   "id": "0d52ce7c",
   "metadata": {},
   "source": [
    "## SLICING"
   ]
  },
  {
   "cell_type": "code",
   "execution_count": 114,
   "id": "386be83c",
   "metadata": {},
   "outputs": [
    {
     "data": {
      "text/plain": [
       "'banana'"
      ]
     },
     "execution_count": 114,
     "metadata": {},
     "output_type": "execute_result"
    }
   ],
   "source": [
    "fruits[0]"
   ]
  },
  {
   "cell_type": "code",
   "execution_count": 115,
   "id": "68fd79e3",
   "metadata": {},
   "outputs": [
    {
     "data": {
      "text/plain": [
       "'orange'"
      ]
     },
     "execution_count": 115,
     "metadata": {},
     "output_type": "execute_result"
    }
   ],
   "source": [
    "fruits[2]"
   ]
  },
  {
   "cell_type": "markdown",
   "id": "eb4312d9",
   "metadata": {},
   "source": [
    "# RANGE OF ITEMS"
   ]
  },
  {
   "cell_type": "code",
   "execution_count": 124,
   "id": "a1a3cf18",
   "metadata": {},
   "outputs": [
    {
     "name": "stdout",
     "output_type": "stream",
     "text": [
      "['orange', 'manago', 'apple', 'kiwi']\n"
     ]
    }
   ],
   "source": [
    "fruits=[\"apple\",\"orange\",\"manago\",\"apple\",\"kiwi\",\"pineapple\"]\n",
    "print(fruits[1:5])"
   ]
  },
  {
   "cell_type": "code",
   "execution_count": 117,
   "id": "e91829a4",
   "metadata": {},
   "outputs": [
    {
     "name": "stdout",
     "output_type": "stream",
     "text": [
      "['apple', 'orange', 'manago', 'apple', 'kiwi']\n"
     ]
    }
   ],
   "source": [
    "print(fruits[:5])"
   ]
  },
  {
   "cell_type": "code",
   "execution_count": 118,
   "id": "5cfcd216",
   "metadata": {},
   "outputs": [
    {
     "name": "stdout",
     "output_type": "stream",
     "text": [
      "['apple', 'orange', 'manago']\n"
     ]
    }
   ],
   "source": [
    "print(fruits[:-3])"
   ]
  },
  {
   "cell_type": "code",
   "execution_count": 119,
   "id": "e76cd62c",
   "metadata": {},
   "outputs": [
    {
     "data": {
      "text/plain": [
       "['orange', 'manago', 'apple', 'kiwi', 'pineapple']"
      ]
     },
     "execution_count": 119,
     "metadata": {},
     "output_type": "execute_result"
    }
   ],
   "source": [
    "fruits[1:]"
   ]
  },
  {
   "cell_type": "markdown",
   "id": "b7d34f55",
   "metadata": {},
   "source": [
    "## We can change the value inside the list byindexing"
   ]
  },
  {
   "cell_type": "code",
   "execution_count": 125,
   "id": "1eadb874",
   "metadata": {},
   "outputs": [],
   "source": [
    "fruits[1]=\"gouava\""
   ]
  },
  {
   "cell_type": "code",
   "execution_count": 126,
   "id": "9b569851",
   "metadata": {},
   "outputs": [
    {
     "name": "stdout",
     "output_type": "stream",
     "text": [
      "['apple', 'gouava', 'manago', 'apple', 'kiwi', 'pineapple']\n"
     ]
    }
   ],
   "source": [
    "print(fruits)"
   ]
  },
  {
   "cell_type": "markdown",
   "id": "44e981e3",
   "metadata": {},
   "source": [
    "## What if we need to change the range of list."
   ]
  },
  {
   "cell_type": "code",
   "execution_count": 127,
   "id": "01ca0002",
   "metadata": {},
   "outputs": [
    {
     "name": "stdout",
     "output_type": "stream",
     "text": [
      "['apple', 'gouava', 'watermelon', 'green apple', 'kiwi', 'pineapple']\n"
     ]
    }
   ],
   "source": [
    "fruits[2:4]=[\"watermelon\",\"green apple\"]\n",
    "print(fruits)"
   ]
  },
  {
   "cell_type": "code",
   "execution_count": 128,
   "id": "46aee6b8",
   "metadata": {},
   "outputs": [
    {
     "name": "stdout",
     "output_type": "stream",
     "text": [
      "['apple', 'banana', 'watermelon', 'kiwi']\n"
     ]
    }
   ],
   "source": [
    "fruits=['apple','banana','orange']\n",
    "fruits[2:]=['watermelon','kiwi']\n",
    "print(fruits)"
   ]
  },
  {
   "cell_type": "code",
   "execution_count": null,
   "id": "15ce5760",
   "metadata": {},
   "outputs": [],
   "source": [
    "## We can change items like the above code, then the lingth of the list will be change.\n",
    " If we insert "
   ]
  },
  {
   "cell_type": "code",
   "execution_count": 130,
   "id": "5b2fe932",
   "metadata": {},
   "outputs": [
    {
     "name": "stdout",
     "output_type": "stream",
     "text": [
      "['apple', 'kiwi', 'orange']\n"
     ]
    }
   ],
   "source": [
    "fruits=['apple','banana','orange']\n",
    "fruits[1:2]=['kiwi']\n",
    "print(fruits)"
   ]
  },
  {
   "cell_type": "markdown",
   "id": "6e487b13",
   "metadata": {},
   "source": [
    "## We can insert a new item byusing inset()function."
   ]
  },
  {
   "cell_type": "code",
   "execution_count": 132,
   "id": "c7cc1608",
   "metadata": {},
   "outputs": [
    {
     "name": "stdout",
     "output_type": "stream",
     "text": [
      "['apple', 'orange', 'banana', 'cherry']\n"
     ]
    }
   ],
   "source": [
    "fruits=[\"apple\",\"banana\",\"cherry\"]\n",
    "fruits.insert(1, \"orange\")\n",
    "print(fruits)"
   ]
  },
  {
   "cell_type": "markdown",
   "id": "90a27ec0",
   "metadata": {},
   "source": [
    "## We can add an item using append()function too."
   ]
  },
  {
   "cell_type": "code",
   "execution_count": 133,
   "id": "3326295d",
   "metadata": {},
   "outputs": [
    {
     "name": "stdout",
     "output_type": "stream",
     "text": [
      "['apple', 'banana', 'cherry', 'orange']\n"
     ]
    }
   ],
   "source": [
    "fruits=[\"apple\",\"banana\",\"cherry\"]\n",
    "fruits.append(\"orange\")\n",
    "print(fruits)"
   ]
  },
  {
   "cell_type": "markdown",
   "id": "931dea1d",
   "metadata": {},
   "source": [
    "## How to add multiple eliments in existing list"
   ]
  },
  {
   "cell_type": "code",
   "execution_count": 135,
   "id": "bbb7c54e",
   "metadata": {},
   "outputs": [],
   "source": [
    "fruits=[\"apple\",\"banana\",\"cherry\"]\n",
    "fruits2=[\"mango\",\"pineapple\",\"papaya\"]\n",
    "fruits.extend(fruits2)"
   ]
  },
  {
   "cell_type": "code",
   "execution_count": 136,
   "id": "a5fb57b3",
   "metadata": {},
   "outputs": [
    {
     "name": "stdout",
     "output_type": "stream",
     "text": [
      "['apple', 'banana', 'cherry', 'mango', 'pineapple', 'papaya']\n"
     ]
    }
   ],
   "source": [
    "print(fruits)"
   ]
  },
  {
   "cell_type": "code",
   "execution_count": null,
   "id": "183d0d08",
   "metadata": {},
   "outputs": [],
   "source": []
  }
 ],
 "metadata": {
  "kernelspec": {
   "display_name": "Python 3 (ipykernel)",
   "language": "python",
   "name": "python3"
  },
  "language_info": {
   "codemirror_mode": {
    "name": "ipython",
    "version": 3
   },
   "file_extension": ".py",
   "mimetype": "text/x-python",
   "name": "python",
   "nbconvert_exporter": "python",
   "pygments_lexer": "ipython3",
   "version": "3.11.5"
  }
 },
 "nbformat": 4,
 "nbformat_minor": 5
}
