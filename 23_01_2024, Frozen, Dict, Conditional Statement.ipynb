{
 "cells": [
  {
   "cell_type": "markdown",
   "id": "265e091b",
   "metadata": {},
   "source": [
    "# FROZENSET "
   ]
  },
  {
   "cell_type": "markdown",
   "id": "cde46de4",
   "metadata": {},
   "source": [
    "## The frozenset() is an inbuilt foundation in python which takens an iterable object as input and makes them immutable, Simpleit freezes the iterable the objects and makes them unchageable. "
   ]
  },
  {
   "cell_type": "markdown",
   "id": "9cf4c608",
   "metadata": {},
   "source": [
    "# Syntex : frzenset(iterable_object_name)"
   ]
  },
  {
   "cell_type": "code",
   "execution_count": 2,
   "id": "d21fc68b",
   "metadata": {},
   "outputs": [],
   "source": [
    "skc=[\"Sahil193\",\"python\",\"jupyter\"]"
   ]
  },
  {
   "cell_type": "code",
   "execution_count": 3,
   "id": "918e4d27",
   "metadata": {},
   "outputs": [
    {
     "data": {
      "text/plain": [
       "list"
      ]
     },
     "execution_count": 3,
     "metadata": {},
     "output_type": "execute_result"
    }
   ],
   "source": [
    "type(skc)"
   ]
  },
  {
   "cell_type": "code",
   "execution_count": 4,
   "id": "1cd35a49",
   "metadata": {},
   "outputs": [],
   "source": [
    "fskc=frozenset(skc)"
   ]
  },
  {
   "cell_type": "code",
   "execution_count": 5,
   "id": "3d38a1b4",
   "metadata": {},
   "outputs": [
    {
     "name": "stdout",
     "output_type": "stream",
     "text": [
      "frozenset({'jupyter', 'python', 'Sahil193'})\n"
     ]
    }
   ],
   "source": [
    "print(fskc)"
   ]
  },
  {
   "cell_type": "code",
   "execution_count": 6,
   "id": "bd0e232f",
   "metadata": {},
   "outputs": [
    {
     "data": {
      "text/plain": [
       "frozenset"
      ]
     },
     "execution_count": 6,
     "metadata": {},
     "output_type": "execute_result"
    }
   ],
   "source": [
    "type(fskc)"
   ]
  },
  {
   "cell_type": "code",
   "execution_count": 8,
   "id": "64ad59d0",
   "metadata": {},
   "outputs": [
    {
     "name": "stdout",
     "output_type": "stream",
     "text": [
      "frozenset boject is : frozenset({'jupyter', 'python', 'Sahil193'})\n"
     ]
    }
   ],
   "source": [
    "print(\"frozenset boject is :\",fskc)"
   ]
  },
  {
   "cell_type": "markdown",
   "id": "bd2a1f73",
   "metadata": {},
   "source": [
    "# DICTIONARIES"
   ]
  },
  {
   "cell_type": "markdown",
   "id": "e316fcda",
   "metadata": {},
   "source": [
    "## Dictionaries"
   ]
  },
  {
   "cell_type": "markdown",
   "id": "7e969cb8",
   "metadata": {},
   "source": [
    "### Dictionaries are loke the others, it is used to store multiple value. But unlike other these store values in key- value pair.\n",
    "Dictionaries are written with curly brackets, and have keys and values as of python version 3.7, disctionaries are ordered. In python 3.6 and erlier, dictonaries are unordered. \n",
    "A dictionaries is a collection which is ordered*, changable and does not allow duplicates."
   ]
  },
  {
   "cell_type": "code",
   "execution_count": 9,
   "id": "6312e31a",
   "metadata": {},
   "outputs": [],
   "source": [
    "cars={\n",
    "    \"brand\":\"BNW\",\n",
    "    \"model\":\"2nd series\",\n",
    "    \"year\":2004\n",
    "}\n"
   ]
  },
  {
   "cell_type": "code",
   "execution_count": 10,
   "id": "3ae213af",
   "metadata": {},
   "outputs": [
    {
     "name": "stdout",
     "output_type": "stream",
     "text": [
      "{'brand': 'BNW', 'model': '2nd series', 'year': 2004}\n"
     ]
    }
   ],
   "source": [
    "print(cars)"
   ]
  },
  {
   "cell_type": "code",
   "execution_count": 11,
   "id": "14102864",
   "metadata": {},
   "outputs": [
    {
     "data": {
      "text/plain": [
       "dict"
      ]
     },
     "execution_count": 11,
     "metadata": {},
     "output_type": "execute_result"
    }
   ],
   "source": [
    "type(cars)"
   ]
  },
  {
   "cell_type": "code",
   "execution_count": 12,
   "id": "906c2f2a",
   "metadata": {},
   "outputs": [
    {
     "data": {
      "text/plain": [
       "3"
      ]
     },
     "execution_count": 12,
     "metadata": {},
     "output_type": "execute_result"
    }
   ],
   "source": [
    "len(cars)"
   ]
  },
  {
   "cell_type": "markdown",
   "id": "32cc507a",
   "metadata": {},
   "source": [
    "## Accessing an item in dict is easy as list and tuple. Here we can call a list by using its key because it is stored in a key value pair.1. "
   ]
  },
  {
   "cell_type": "code",
   "execution_count": 13,
   "id": "9ae158f9",
   "metadata": {},
   "outputs": [
    {
     "name": "stdout",
     "output_type": "stream",
     "text": [
      "2nd series\n"
     ]
    }
   ],
   "source": [
    "print(cars['model'])"
   ]
  },
  {
   "cell_type": "code",
   "execution_count": 14,
   "id": "e38774e0",
   "metadata": {},
   "outputs": [
    {
     "name": "stdout",
     "output_type": "stream",
     "text": [
      "BNW\n"
     ]
    }
   ],
   "source": [
    "print(cars[\"brand\"])"
   ]
  },
  {
   "cell_type": "code",
   "execution_count": 15,
   "id": "f9f81a56",
   "metadata": {},
   "outputs": [],
   "source": [
    "x=cars.get(\"model\")"
   ]
  },
  {
   "cell_type": "code",
   "execution_count": 16,
   "id": "162df2d4",
   "metadata": {},
   "outputs": [
    {
     "name": "stdout",
     "output_type": "stream",
     "text": [
      "2nd series\n"
     ]
    }
   ],
   "source": [
    "print(x)"
   ]
  },
  {
   "cell_type": "code",
   "execution_count": 17,
   "id": "b4b0b231",
   "metadata": {},
   "outputs": [],
   "source": [
    "y=cars.get(\"year\")"
   ]
  },
  {
   "cell_type": "code",
   "execution_count": 18,
   "id": "1fbf85fa",
   "metadata": {},
   "outputs": [
    {
     "name": "stdout",
     "output_type": "stream",
     "text": [
      "2004\n"
     ]
    }
   ],
   "source": [
    "print(y)"
   ]
  },
  {
   "cell_type": "markdown",
   "id": "25499fc7",
   "metadata": {},
   "source": [
    "## 2. Keys"
   ]
  },
  {
   "cell_type": "code",
   "execution_count": 19,
   "id": "4d34ca4c",
   "metadata": {},
   "outputs": [],
   "source": [
    "z=cars.keys()"
   ]
  },
  {
   "cell_type": "code",
   "execution_count": 20,
   "id": "63737a98",
   "metadata": {},
   "outputs": [
    {
     "name": "stdout",
     "output_type": "stream",
     "text": [
      "dict_keys(['brand', 'model', 'year'])\n"
     ]
    }
   ],
   "source": [
    "print(z)"
   ]
  },
  {
   "cell_type": "code",
   "execution_count": 21,
   "id": "92870eb2",
   "metadata": {},
   "outputs": [],
   "source": [
    "p=cars.values()"
   ]
  },
  {
   "cell_type": "markdown",
   "id": "89261f17",
   "metadata": {},
   "source": [
    "## 3. Values"
   ]
  },
  {
   "cell_type": "markdown",
   "id": "aed11390",
   "metadata": {},
   "source": [
    "## Before the change"
   ]
  },
  {
   "cell_type": "code",
   "execution_count": 22,
   "id": "609f3cb1",
   "metadata": {},
   "outputs": [
    {
     "name": "stdout",
     "output_type": "stream",
     "text": [
      "dict_values(['BNW', '2nd series', 2004])\n"
     ]
    }
   ],
   "source": [
    "print(p)"
   ]
  },
  {
   "cell_type": "code",
   "execution_count": 23,
   "id": "92bb6e65",
   "metadata": {},
   "outputs": [],
   "source": [
    "cars={\n",
    "    \"brand\":\"ford\",\n",
    "    \"model\":\"mustang\",\n",
    "    \"year\":1964\n",
    "}"
   ]
  },
  {
   "cell_type": "code",
   "execution_count": 24,
   "id": "a82faaff",
   "metadata": {},
   "outputs": [
    {
     "name": "stdout",
     "output_type": "stream",
     "text": [
      "dict_values(['ford', 'mustang', 1964])\n"
     ]
    }
   ],
   "source": [
    "x=cars.values()\n",
    "print(x)#beore the change"
   ]
  },
  {
   "cell_type": "markdown",
   "id": "b6e8b72a",
   "metadata": {},
   "source": [
    "## After the change"
   ]
  },
  {
   "cell_type": "code",
   "execution_count": 26,
   "id": "5908762c",
   "metadata": {},
   "outputs": [],
   "source": [
    "cars[\"color\"]=\"red\""
   ]
  },
  {
   "cell_type": "code",
   "execution_count": 27,
   "id": "f8bf1970",
   "metadata": {},
   "outputs": [
    {
     "name": "stdout",
     "output_type": "stream",
     "text": [
      "dict_values(['ford', 'mustang', 1964, 'red'])\n"
     ]
    }
   ],
   "source": [
    "print(x)"
   ]
  },
  {
   "cell_type": "code",
   "execution_count": 28,
   "id": "84d172f7",
   "metadata": {},
   "outputs": [
    {
     "name": "stdout",
     "output_type": "stream",
     "text": [
      "{'brand': 'ford', 'model': 'mustang', 'year': 1964, 'color': 'red'}\n"
     ]
    }
   ],
   "source": [
    "print(cars)"
   ]
  },
  {
   "cell_type": "markdown",
   "id": "c42a54c7",
   "metadata": {},
   "source": [
    "## 4. Items() methid will return each items in a dictonaries, as tuples in a list. items is both key and value."
   ]
  },
  {
   "cell_type": "code",
   "execution_count": 29,
   "id": "e0a45eae",
   "metadata": {},
   "outputs": [],
   "source": [
    "x=cars.items()"
   ]
  },
  {
   "cell_type": "code",
   "execution_count": 30,
   "id": "44744494",
   "metadata": {},
   "outputs": [
    {
     "name": "stdout",
     "output_type": "stream",
     "text": [
      "dict_items([('brand', 'ford'), ('model', 'mustang'), ('year', 1964), ('color', 'red')])\n"
     ]
    }
   ],
   "source": [
    "print(x)"
   ]
  },
  {
   "cell_type": "markdown",
   "id": "d844e230",
   "metadata": {},
   "source": [
    "## 5. To change the dict items qwe just need to call the key and assign the new value. Or we can use the update() function."
   ]
  },
  {
   "cell_type": "code",
   "execution_count": 32,
   "id": "a71a4ef4",
   "metadata": {},
   "outputs": [],
   "source": [
    "cars={\n",
    "        \"brand\":\"ford\",\n",
    "        \"model\":\"mustang\",\n",
    "        \"year\":1964\n",
    "        }\n",
    "cars[\"year\"]=2024"
   ]
  },
  {
   "cell_type": "code",
   "execution_count": 33,
   "id": "b00b6f2f",
   "metadata": {},
   "outputs": [
    {
     "name": "stdout",
     "output_type": "stream",
     "text": [
      "{'brand': 'ford', 'model': 'mustang', 'year': 2024}\n"
     ]
    }
   ],
   "source": [
    "print(cars)"
   ]
  },
  {
   "cell_type": "code",
   "execution_count": 34,
   "id": "c192cdb1",
   "metadata": {},
   "outputs": [
    {
     "data": {
      "text/plain": [
       "dict"
      ]
     },
     "execution_count": 34,
     "metadata": {},
     "output_type": "execute_result"
    }
   ],
   "source": [
    "type(cars)"
   ]
  },
  {
   "cell_type": "markdown",
   "id": "46d7aa2c",
   "metadata": {},
   "source": [
    "## With update function key"
   ]
  },
  {
   "cell_type": "code",
   "execution_count": 35,
   "id": "85a79b52",
   "metadata": {},
   "outputs": [],
   "source": [
    "cars.update({\"year\":2020})"
   ]
  },
  {
   "cell_type": "code",
   "execution_count": 36,
   "id": "4544117c",
   "metadata": {},
   "outputs": [
    {
     "name": "stdout",
     "output_type": "stream",
     "text": [
      "{'brand': 'ford', 'model': 'mustang', 'year': 2020}\n"
     ]
    }
   ],
   "source": [
    "print(cars)"
   ]
  },
  {
   "cell_type": "markdown",
   "id": "df5733b5",
   "metadata": {},
   "source": [
    "## 6. Next we ned to remove the items in the list, that can be dine by, pop(), popitems(), del(), cleat() functios."
   ]
  },
  {
   "cell_type": "code",
   "execution_count": 46,
   "id": "e8a4e586",
   "metadata": {},
   "outputs": [],
   "source": [
    "cars={\n",
    "    \"brand\":\"ford\",\n",
    "    \"model\":\"mustang\",\n",
    "    \"year\":2024\n",
    "}"
   ]
  },
  {
   "cell_type": "code",
   "execution_count": 38,
   "id": "daf4946f",
   "metadata": {},
   "outputs": [
    {
     "data": {
      "text/plain": [
       "2024"
      ]
     },
     "execution_count": 38,
     "metadata": {},
     "output_type": "execute_result"
    }
   ],
   "source": [
    "cars.pop('year')"
   ]
  },
  {
   "cell_type": "code",
   "execution_count": 40,
   "id": "dbd50f06",
   "metadata": {},
   "outputs": [
    {
     "name": "stdout",
     "output_type": "stream",
     "text": [
      "{'brand': 'ford', 'model': 'mustang'}\n"
     ]
    }
   ],
   "source": [
    "print(cars)"
   ]
  },
  {
   "cell_type": "markdown",
   "id": "7d96851e",
   "metadata": {},
   "source": [
    "## popitem() to delete the last item insurt."
   ]
  },
  {
   "cell_type": "code",
   "execution_count": 41,
   "id": "ab47a85a",
   "metadata": {},
   "outputs": [
    {
     "data": {
      "text/plain": [
       "('model', 'mustang')"
      ]
     },
     "execution_count": 41,
     "metadata": {},
     "output_type": "execute_result"
    }
   ],
   "source": [
    "cars.popitem()"
   ]
  },
  {
   "cell_type": "code",
   "execution_count": 42,
   "id": "756bcf2b",
   "metadata": {},
   "outputs": [
    {
     "name": "stdout",
     "output_type": "stream",
     "text": [
      "{'brand': 'ford'}\n"
     ]
    }
   ],
   "source": [
    "print(cars)"
   ]
  },
  {
   "cell_type": "markdown",
   "id": "2315ff9e",
   "metadata": {},
   "source": [
    "## del() to "
   ]
  },
  {
   "cell_type": "code",
   "execution_count": 47,
   "id": "fb86f1ed",
   "metadata": {},
   "outputs": [],
   "source": [
    "del cars[\"model\"]"
   ]
  },
  {
   "cell_type": "code",
   "execution_count": 48,
   "id": "0934603c",
   "metadata": {},
   "outputs": [
    {
     "name": "stdout",
     "output_type": "stream",
     "text": [
      "{'brand': 'ford', 'year': 2024}\n"
     ]
    }
   ],
   "source": [
    "print(cars)"
   ]
  },
  {
   "cell_type": "code",
   "execution_count": 52,
   "id": "836835de",
   "metadata": {},
   "outputs": [],
   "source": [
    "del cars[\"brand\"]"
   ]
  },
  {
   "cell_type": "code",
   "execution_count": 53,
   "id": "6b41dd9f",
   "metadata": {},
   "outputs": [],
   "source": [
    "del cars[\"year\"]"
   ]
  },
  {
   "cell_type": "markdown",
   "id": "9ae9d6f4",
   "metadata": {},
   "source": [
    "## Blank dict"
   ]
  },
  {
   "cell_type": "code",
   "execution_count": 54,
   "id": "3f0af0f8",
   "metadata": {},
   "outputs": [
    {
     "name": "stdout",
     "output_type": "stream",
     "text": [
      "{}\n"
     ]
    }
   ],
   "source": [
    "print(cars)"
   ]
  },
  {
   "cell_type": "markdown",
   "id": "fb812500",
   "metadata": {},
   "source": [
    "## clear() to remove all keys , method empties the dictionary."
   ]
  },
  {
   "cell_type": "code",
   "execution_count": 57,
   "id": "dd0c5702",
   "metadata": {},
   "outputs": [],
   "source": [
    "cars={\n",
    "    \"brand\":\"ford\",\n",
    "    \"model\":\"mustang\",\n",
    "    \"year\":2024\n",
    "}"
   ]
  },
  {
   "cell_type": "code",
   "execution_count": 58,
   "id": "4921e36a",
   "metadata": {},
   "outputs": [],
   "source": [
    "cars.clear()"
   ]
  },
  {
   "cell_type": "code",
   "execution_count": 56,
   "id": "72e81919",
   "metadata": {},
   "outputs": [
    {
     "name": "stdout",
     "output_type": "stream",
     "text": [
      "{}\n"
     ]
    }
   ],
   "source": [
    "print(cars)"
   ]
  },
  {
   "cell_type": "markdown",
   "id": "62eb325b",
   "metadata": {},
   "source": [
    "## Copy Dictionaries "
   ]
  },
  {
   "cell_type": "code",
   "execution_count": 59,
   "id": "c16f3233",
   "metadata": {},
   "outputs": [],
   "source": [
    "cars={\n",
    "    \"brand\":\"ford\",\n",
    "    \"model\":\"mustang\",\n",
    "    \"year\":2024\n",
    "}"
   ]
  },
  {
   "cell_type": "code",
   "execution_count": 61,
   "id": "532ffdf9",
   "metadata": {},
   "outputs": [],
   "source": [
    "mydict=cars.copy()"
   ]
  },
  {
   "cell_type": "code",
   "execution_count": 62,
   "id": "c3b12370",
   "metadata": {},
   "outputs": [
    {
     "name": "stdout",
     "output_type": "stream",
     "text": [
      "{'brand': 'ford', 'model': 'mustang', 'year': 2024}\n"
     ]
    }
   ],
   "source": [
    "print(mydict)"
   ]
  },
  {
   "cell_type": "markdown",
   "id": "0766d08c",
   "metadata": {},
   "source": [
    "## We can also do this by another function called dict\n",
    "()"
   ]
  },
  {
   "cell_type": "code",
   "execution_count": 63,
   "id": "b58c4d00",
   "metadata": {},
   "outputs": [],
   "source": [
    "cars={\n",
    "    \"brand\":\"ford\",\n",
    "    \"model\":\"mustang\",\n",
    "    \"year\":2024\n",
    "}"
   ]
  },
  {
   "cell_type": "code",
   "execution_count": 64,
   "id": "8bac421f",
   "metadata": {},
   "outputs": [],
   "source": [
    "skc=dict(cars)"
   ]
  },
  {
   "cell_type": "code",
   "execution_count": 65,
   "id": "569954ac",
   "metadata": {},
   "outputs": [
    {
     "name": "stdout",
     "output_type": "stream",
     "text": [
      "{'brand': 'ford', 'model': 'mustang', 'year': 2024}\n"
     ]
    }
   ],
   "source": [
    "print(skc)"
   ]
  },
  {
   "cell_type": "markdown",
   "id": "ba54bf17",
   "metadata": {},
   "source": [
    "## Nested Dictionaries"
   ]
  },
  {
   "cell_type": "code",
   "execution_count": 67,
   "id": "1e6ae500",
   "metadata": {},
   "outputs": [],
   "source": [
    "friends={\n",
    "    \"child1\":{\"name\":\"arun\", \"year\":2000}, \n",
    "    \"child2\":{\"name\":\"vignesh\",\"year\":2001}, \n",
    "    \"chind3\":{\"name\":\"arya\",\"year\":2018}}"
   ]
  },
  {
   "cell_type": "code",
   "execution_count": 68,
   "id": "2957825e",
   "metadata": {},
   "outputs": [
    {
     "name": "stdout",
     "output_type": "stream",
     "text": [
      "{'child1': {'name': 'arun', 'year': 2000}, 'child2': {'name': 'vignesh', 'year': 2001}, 'chind3': {'name': 'arya', 'year': 2018}}\n"
     ]
    }
   ],
   "source": [
    "print(friends)"
   ]
  },
  {
   "cell_type": "markdown",
   "id": "9432ebd7",
   "metadata": {},
   "source": [
    "## Or we can add3 separate dictionaties into a single dictonary."
   ]
  },
  {
   "cell_type": "code",
   "execution_count": 69,
   "id": "85f57e1b",
   "metadata": {},
   "outputs": [],
   "source": [
    "child1={\"name\":\"arun\", \"year\":2000}"
   ]
  },
  {
   "cell_type": "code",
   "execution_count": 71,
   "id": "b95c17b2",
   "metadata": {},
   "outputs": [],
   "source": [
    "child2={\"name\":\"vignesh\",\"year\":2001}"
   ]
  },
  {
   "cell_type": "code",
   "execution_count": 75,
   "id": "b2f51799",
   "metadata": {},
   "outputs": [],
   "source": [
    "child3={\"name\":\"arya\",\"year\":2018}"
   ]
  },
  {
   "cell_type": "code",
   "execution_count": 76,
   "id": "37717c14",
   "metadata": {},
   "outputs": [],
   "source": [
    "sks={'child1':child1,'child2':child2,'child3':child3}"
   ]
  },
  {
   "cell_type": "code",
   "execution_count": 77,
   "id": "f952da2a",
   "metadata": {},
   "outputs": [
    {
     "name": "stdout",
     "output_type": "stream",
     "text": [
      "{'child1': {'name': 'arun', 'year': 2000}, 'child2': {'name': 'vignesh', 'year': 2001}, 'child3': {'name': 'arya', 'year': 2018}}\n"
     ]
    }
   ],
   "source": [
    "print(sks)"
   ]
  },
  {
   "cell_type": "markdown",
   "id": "dc2b8286",
   "metadata": {},
   "source": [
    "# CONDITIONAL STATEMENTS---PPT128"
   ]
  },
  {
   "cell_type": "markdown",
   "id": "e226c478",
   "metadata": {},
   "source": [
    "## Python Conditions and if statements"
   ]
  },
  {
   "cell_type": "markdown",
   "id": "a0a9ad02",
   "metadata": {},
   "source": [
    "### Python supports the usual logicalconditions from mathematics"
   ]
  },
  {
   "cell_type": "markdown",
   "id": "622c0873",
   "metadata": {},
   "source": [
    "## 1. An \"if statement\" is written by using the it keyword "
   ]
  },
  {
   "cell_type": "code",
   "execution_count": 79,
   "id": "535eaee4",
   "metadata": {},
   "outputs": [
    {
     "name": "stdout",
     "output_type": "stream",
     "text": [
      "b is Sahil a\n"
     ]
    }
   ],
   "source": [
    "a=33\n",
    "b=200\n",
    "if b>a:\n",
    "    print(\"b is Sahil a\")"
   ]
  },
  {
   "cell_type": "code",
   "execution_count": 80,
   "id": "352f63d7",
   "metadata": {},
   "outputs": [],
   "source": [
    "a=119\n",
    "b=3\n",
    "if b>a:\n",
    "    print(\"b is Sahil a\")"
   ]
  },
  {
   "cell_type": "markdown",
   "id": "6fc84084",
   "metadata": {},
   "source": [
    "## Indentation"
   ]
  },
  {
   "cell_type": "code",
   "execution_count": 89,
   "id": "4cf1cddb",
   "metadata": {},
   "outputs": [
    {
     "ename": "IndentationError",
     "evalue": "expected an indented block after 'if' statement on line 3 (1028990849.py, line 4)",
     "output_type": "error",
     "traceback": [
      "\u001b[1;36m  Cell \u001b[1;32mIn[89], line 4\u001b[1;36m\u001b[0m\n\u001b[1;33m    print(\"b is Sahil a\")\u001b[0m\n\u001b[1;37m    ^\u001b[0m\n\u001b[1;31mIndentationError\u001b[0m\u001b[1;31m:\u001b[0m expected an indented block after 'if' statement on line 3\n"
     ]
    }
   ],
   "source": [
    "a=33\n",
    "b=200\n",
    "if b>a:\n",
    "print(\"b is Sahil a\")"
   ]
  },
  {
   "cell_type": "markdown",
   "id": "42cecc84",
   "metadata": {},
   "source": [
    "## Else --- If all the conditions fails to meet, the the python execute the else condition statement."
   ]
  },
  {
   "cell_type": "code",
   "execution_count": 90,
   "id": "d771f2a0",
   "metadata": {},
   "outputs": [],
   "source": [
    "a=200\n",
    "b=33\n",
    "if b>a:\n",
    "    print(\"b is gater than a\")"
   ]
  },
  {
   "cell_type": "code",
   "execution_count": 92,
   "id": "a7d6f343",
   "metadata": {},
   "outputs": [
    {
     "name": "stdout",
     "output_type": "stream",
     "text": [
      "b is gater than a\n"
     ]
    }
   ],
   "source": [
    "a=33\n",
    "b=200\n",
    "if b>a:\n",
    "    print(\"b is gater than a\")\n",
    "else:\n",
    "    print(\"b is less than a\")"
   ]
  },
  {
   "cell_type": "code",
   "execution_count": 93,
   "id": "ec483bc6",
   "metadata": {},
   "outputs": [
    {
     "name": "stdout",
     "output_type": "stream",
     "text": [
      "b is less than a\n"
     ]
    }
   ],
   "source": [
    "a=200\n",
    "b=33\n",
    "if b>a:\n",
    "    print(\"b is gater than a\")\n",
    "else:\n",
    "    print(\"b is less than a\")"
   ]
  },
  {
   "cell_type": "code",
   "execution_count": 86,
   "id": "331f821e",
   "metadata": {},
   "outputs": [
    {
     "ename": "SyntaxError",
     "evalue": "invalid syntax (2125990590.py, line 1)",
     "output_type": "error",
     "traceback": [
      "\u001b[1;36m  Cell \u001b[1;32mIn[86], line 1\u001b[1;36m\u001b[0m\n\u001b[1;33m    elif a==b:\u001b[0m\n\u001b[1;37m    ^\u001b[0m\n\u001b[1;31mSyntaxError\u001b[0m\u001b[1;31m:\u001b[0m invalid syntax\n"
     ]
    }
   ],
   "source": [
    "elif a==b:\n",
    "    print"
   ]
  },
  {
   "cell_type": "markdown",
   "id": "adab1c77",
   "metadata": {},
   "source": [
    "# Q--- Check 7 is odd number or even"
   ]
  },
  {
   "cell_type": "code",
   "execution_count": 94,
   "id": "f15d2165",
   "metadata": {},
   "outputs": [
    {
     "name": "stdout",
     "output_type": "stream",
     "text": [
      "the number is odd\n"
     ]
    }
   ],
   "source": [
    "x=7\n",
    "y=2\n",
    "if x%y ==0:\n",
    "    print(\"the number is even\")\n",
    "else:\n",
    "    print(\"the number is odd\")"
   ]
  },
  {
   "cell_type": "code",
   "execution_count": 95,
   "id": "92d10442",
   "metadata": {},
   "outputs": [
    {
     "name": "stdout",
     "output_type": "stream",
     "text": [
      "the number is even\n"
     ]
    }
   ],
   "source": [
    "x=8\n",
    "y=2\n",
    "if x%y ==0:\n",
    "    print(\"the number is even\")\n",
    "else:\n",
    "    print(\"the number is odd\")"
   ]
  },
  {
   "cell_type": "markdown",
   "id": "0e002147",
   "metadata": {},
   "source": [
    "## Elif\n",
    "## Elif says if the above condition is not true try these"
   ]
  },
  {
   "cell_type": "code",
   "execution_count": 96,
   "id": "7f3f5925",
   "metadata": {},
   "outputs": [
    {
     "name": "stdout",
     "output_type": "stream",
     "text": [
      "a in greater than b\n"
     ]
    }
   ],
   "source": [
    "a=200\n",
    "b=33\n",
    "if b>a:\n",
    "    print(\"b is greater than a\")\n",
    "elif a==b:\n",
    "    print(\"a and b are equal\")\n",
    "else:\n",
    "    print(\"a in greater than b\")"
   ]
  },
  {
   "cell_type": "markdown",
   "id": "f09201b8",
   "metadata": {},
   "source": [
    "## Q--- Check a number is possitive, negative, or nutral (menas =0)"
   ]
  },
  {
   "cell_type": "code",
   "execution_count": 97,
   "id": "aaccde84",
   "metadata": {},
   "outputs": [
    {
     "name": "stdout",
     "output_type": "stream",
     "text": [
      "the number is possitive\n"
     ]
    }
   ],
   "source": [
    "x=300\n",
    "if x>0:\n",
    "    print(\"the number is possitive\")\n",
    "elif x==0:\n",
    "    print(\"the number is neutral\")\n",
    "else:\n",
    "    print(\"the number is negative\")"
   ]
  },
  {
   "cell_type": "code",
   "execution_count": 98,
   "id": "446ae613",
   "metadata": {},
   "outputs": [
    {
     "name": "stdout",
     "output_type": "stream",
     "text": [
      "the number is possitive\n"
     ]
    }
   ],
   "source": [
    "x=193\n",
    "if x>0:\n",
    "    print(\"the number is possitive\")\n",
    "elif x==0:\n",
    "    print(\"the number is neutral\")\n",
    "else:\n",
    "    print(\"the number is negative\")"
   ]
  },
  {
   "cell_type": "code",
   "execution_count": 99,
   "id": "62bfe92b",
   "metadata": {},
   "outputs": [
    {
     "name": "stdout",
     "output_type": "stream",
     "text": [
      "the number is negative\n"
     ]
    }
   ],
   "source": [
    "x=-193\n",
    "if x>0:\n",
    "    print(\"the number is possitive\")\n",
    "elif x==0:\n",
    "    print(\"the number is neutral\")\n",
    "else:\n",
    "    print(\"the number is negative\")"
   ]
  },
  {
   "cell_type": "code",
   "execution_count": 100,
   "id": "a656eb93",
   "metadata": {},
   "outputs": [
    {
     "name": "stdout",
     "output_type": "stream",
     "text": [
      "the number is neutral\n"
     ]
    }
   ],
   "source": [
    "x=0\n",
    "if x>0:\n",
    "    print(\"the number is possitive\")\n",
    "elif x==0:\n",
    "    print(\"the number is neutral\")\n",
    "else:\n",
    "    print(\"the number is negative\")"
   ]
  },
  {
   "cell_type": "code",
   "execution_count": 103,
   "id": "53956186",
   "metadata": {},
   "outputs": [
    {
     "name": "stdout",
     "output_type": "stream",
     "text": [
      "enter a number : 193\n",
      "193\n"
     ]
    }
   ],
   "source": [
    "x=int(input(\"enter a number : \"))\n",
    "print(x)"
   ]
  },
  {
   "cell_type": "code",
   "execution_count": 104,
   "id": "28cfc328",
   "metadata": {},
   "outputs": [
    {
     "data": {
      "text/plain": [
       "int"
      ]
     },
     "execution_count": 104,
     "metadata": {},
     "output_type": "execute_result"
    }
   ],
   "source": [
    "type(x)"
   ]
  },
  {
   "cell_type": "code",
   "execution_count": 105,
   "id": "ed8656c1",
   "metadata": {},
   "outputs": [
    {
     "name": "stdout",
     "output_type": "stream",
     "text": [
      "enter a number : -193\n",
      "the number is negative\n"
     ]
    }
   ],
   "source": [
    "x=int(input(\"enter a number : \"))\n",
    "if x>0:\n",
    "    print(\"the number is possitive\")\n",
    "elif x==0:\n",
    "    print(\"the number is neutral\")\n",
    "else:\n",
    "    print(\"the number is negative\")"
   ]
  },
  {
   "cell_type": "code",
   "execution_count": null,
   "id": "e472e089",
   "metadata": {},
   "outputs": [],
   "source": []
  }
 ],
 "metadata": {
  "kernelspec": {
   "display_name": "Python 3 (ipykernel)",
   "language": "python",
   "name": "python3"
  },
  "language_info": {
   "codemirror_mode": {
    "name": "ipython",
    "version": 3
   },
   "file_extension": ".py",
   "mimetype": "text/x-python",
   "name": "python",
   "nbconvert_exporter": "python",
   "pygments_lexer": "ipython3",
   "version": "3.11.5"
  }
 },
 "nbformat": 4,
 "nbformat_minor": 5
}
