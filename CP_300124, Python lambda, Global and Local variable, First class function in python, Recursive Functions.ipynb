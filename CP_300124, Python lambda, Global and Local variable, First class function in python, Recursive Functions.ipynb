{
 "cells": [
  {
   "cell_type": "markdown",
   "id": "8ab6f911",
   "metadata": {},
   "source": [
    "# Python lambda"
   ]
  },
  {
   "cell_type": "code",
   "execution_count": 1,
   "id": "e2c0c97d",
   "metadata": {},
   "outputs": [],
   "source": [
    "a=[100, 2, 8, 60, 5, 4, 3, 31, 10, 11]"
   ]
  },
  {
   "cell_type": "code",
   "execution_count": 3,
   "id": "faa856d0",
   "metadata": {},
   "outputs": [
    {
     "name": "stdout",
     "output_type": "stream",
     "text": [
      "[100, 2, 8, 60, 4, 10]\n"
     ]
    }
   ],
   "source": [
    "filtered=filter(lambda x:x%2==0,a)\n",
    "print(list(filtered))"
   ]
  },
  {
   "cell_type": "code",
   "execution_count": 5,
   "id": "7debc706",
   "metadata": {},
   "outputs": [
    {
     "name": "stdout",
     "output_type": "stream",
     "text": [
      "[True, True, True, True, False, True, False, False, True, False]\n"
     ]
    }
   ],
   "source": [
    "maped=map(lambda x:x%2==0,a)\n",
    "print(list(maped))"
   ]
  },
  {
   "cell_type": "code",
   "execution_count": 6,
   "id": "339259c0",
   "metadata": {},
   "outputs": [],
   "source": [
    "filtered=filter(lambda x:x%3==0,a)"
   ]
  },
  {
   "cell_type": "code",
   "execution_count": 7,
   "id": "44fcf827",
   "metadata": {},
   "outputs": [
    {
     "name": "stdout",
     "output_type": "stream",
     "text": [
      "[60, 3]\n"
     ]
    }
   ],
   "source": [
    "print(list(filtered))"
   ]
  },
  {
   "cell_type": "code",
   "execution_count": 8,
   "id": "1646f0cb",
   "metadata": {},
   "outputs": [],
   "source": [
    "maped=map(lambda x:x%3==0,a)"
   ]
  },
  {
   "cell_type": "code",
   "execution_count": 11,
   "id": "74c6dd71",
   "metadata": {},
   "outputs": [
    {
     "name": "stdout",
     "output_type": "stream",
     "text": [
      "[False, False, False, True, False, False, True, False, False, False]\n"
     ]
    }
   ],
   "source": [
    "print(list(maped))"
   ]
  },
  {
   "cell_type": "markdown",
   "id": "3f04997e",
   "metadata": {},
   "source": [
    "# Global and Local variable"
   ]
  },
  {
   "cell_type": "code",
   "execution_count": 12,
   "id": "54b4c4e5",
   "metadata": {},
   "outputs": [],
   "source": [
    "def myfunction():\n",
    "    print(s)"
   ]
  },
  {
   "cell_type": "code",
   "execution_count": 13,
   "id": "b56ef336",
   "metadata": {},
   "outputs": [
    {
     "name": "stdout",
     "output_type": "stream",
     "text": [
      "I love python\n"
     ]
    }
   ],
   "source": [
    "s=\"I love python\"\n",
    "myfunction()"
   ]
  },
  {
   "cell_type": "code",
   "execution_count": 18,
   "id": "e99c4c26",
   "metadata": {},
   "outputs": [
    {
     "name": "stdout",
     "output_type": "stream",
     "text": [
      "Me too.\n",
      "I love python\n"
     ]
    }
   ],
   "source": [
    "#eg 2. \n",
    "def myfunction():\n",
    "    s=\"Me too.\"\n",
    "    print(s)\n",
    "#Global scope\n",
    "\n",
    "s=\"I love python\"\n",
    "myfunction()\n",
    "print(s)"
   ]
  },
  {
   "cell_type": "code",
   "execution_count": 19,
   "id": "23e4705f",
   "metadata": {},
   "outputs": [],
   "source": [
    "#eg\n",
    "\n",
    "a=1\n",
    "\n",
    "def f():\n",
    "    print(\"inside f():\",a)\n",
    "def g():\n",
    "    a=2\n",
    "    print(\"inside g():\",a)\n",
    "def h():\n",
    "    global a\n",
    "    a=3\n",
    "    print(\"inside h():\",a)"
   ]
  },
  {
   "cell_type": "code",
   "execution_count": 20,
   "id": "a95d42f7",
   "metadata": {},
   "outputs": [
    {
     "name": "stdout",
     "output_type": "stream",
     "text": [
      "global 1\n"
     ]
    }
   ],
   "source": [
    "print(\"global\", a)"
   ]
  },
  {
   "cell_type": "code",
   "execution_count": 21,
   "id": "eb2c8fd4",
   "metadata": {},
   "outputs": [
    {
     "name": "stdout",
     "output_type": "stream",
     "text": [
      "inside f(): 1\n"
     ]
    }
   ],
   "source": [
    "f()"
   ]
  },
  {
   "cell_type": "code",
   "execution_count": 22,
   "id": "a5971a0b",
   "metadata": {},
   "outputs": [
    {
     "name": "stdout",
     "output_type": "stream",
     "text": [
      "inside g(): 2\n"
     ]
    }
   ],
   "source": [
    "g()"
   ]
  },
  {
   "cell_type": "code",
   "execution_count": 23,
   "id": "bab81558",
   "metadata": {},
   "outputs": [
    {
     "name": "stdout",
     "output_type": "stream",
     "text": [
      "inside h(): 3\n"
     ]
    }
   ],
   "source": [
    "h()"
   ]
  },
  {
   "cell_type": "markdown",
   "id": "7c2d73af",
   "metadata": {},
   "source": [
    "# First class function in python"
   ]
  },
  {
   "cell_type": "markdown",
   "id": "7f06c5fe",
   "metadata": {},
   "source": [
    "## 1. Function are objects:"
   ]
  },
  {
   "cell_type": "code",
   "execution_count": 24,
   "id": "98b8e260",
   "metadata": {},
   "outputs": [
    {
     "name": "stdout",
     "output_type": "stream",
     "text": [
      "SAHIN\n"
     ]
    }
   ],
   "source": [
    "def shout(text):\n",
    "    return text.upper()\n",
    "print (shout(\"Sahin\"))"
   ]
  },
  {
   "cell_type": "code",
   "execution_count": 25,
   "id": "29e311a9",
   "metadata": {},
   "outputs": [
    {
     "name": "stdout",
     "output_type": "stream",
     "text": [
      "KOLKATA\n"
     ]
    }
   ],
   "source": [
    "yell=shout\n",
    "print(yell(\"kolkata\"))"
   ]
  },
  {
   "cell_type": "markdown",
   "id": "f0c6ed5a",
   "metadata": {},
   "source": [
    "# 2. Function can be passed as arguments to other functions:"
   ]
  },
  {
   "cell_type": "code",
   "execution_count": 26,
   "id": "40a588bd",
   "metadata": {},
   "outputs": [],
   "source": [
    "def shout(text):\n",
    "    return text.upper()\n",
    "def whisper(text):\n",
    "    return text.lower()\n",
    "def greet(func):\n",
    "    greeting=func(\"\"\"Hi, I am created by a function\n",
    "                paased as an argument\"\"\")\n",
    "    print(greeting)"
   ]
  },
  {
   "cell_type": "code",
   "execution_count": 27,
   "id": "a5205507",
   "metadata": {},
   "outputs": [
    {
     "name": "stdout",
     "output_type": "stream",
     "text": [
      "HI, I AM CREATED BY A FUNCTION\n",
      "                PAASED AS AN ARGUMENT\n"
     ]
    }
   ],
   "source": [
    "greet(shout)"
   ]
  },
  {
   "cell_type": "code",
   "execution_count": 28,
   "id": "3736e54f",
   "metadata": {},
   "outputs": [
    {
     "name": "stdout",
     "output_type": "stream",
     "text": [
      "hi, i am created by a function\n",
      "                paased as an argument\n"
     ]
    }
   ],
   "source": [
    "greet(whisper)"
   ]
  },
  {
   "cell_type": "markdown",
   "id": "1eedcd58",
   "metadata": {},
   "source": [
    "# 3. Function can return another function"
   ]
  },
  {
   "cell_type": "code",
   "execution_count": 29,
   "id": "1d2bc14b",
   "metadata": {},
   "outputs": [],
   "source": [
    "def create_adder(x):\n",
    "    def adder(y):\n",
    "        return x+y\n",
    "    return adder"
   ]
  },
  {
   "cell_type": "code",
   "execution_count": 30,
   "id": "06a0af8b",
   "metadata": {},
   "outputs": [],
   "source": [
    "add_15=create_adder(15)"
   ]
  },
  {
   "cell_type": "code",
   "execution_count": 31,
   "id": "c5cf5c00",
   "metadata": {},
   "outputs": [
    {
     "name": "stdout",
     "output_type": "stream",
     "text": [
      "<function create_adder.<locals>.adder at 0x0000025548934720>\n"
     ]
    }
   ],
   "source": [
    "print(add_15)"
   ]
  },
  {
   "cell_type": "code",
   "execution_count": 32,
   "id": "28a2f29c",
   "metadata": {},
   "outputs": [
    {
     "data": {
      "text/plain": [
       "25"
      ]
     },
     "execution_count": 32,
     "metadata": {},
     "output_type": "execute_result"
    }
   ],
   "source": [
    "add_15(10)"
   ]
  },
  {
   "cell_type": "markdown",
   "id": "d8ae639c",
   "metadata": {},
   "source": [
    "# Recursive Functions"
   ]
  },
  {
   "cell_type": "code",
   "execution_count": 33,
   "id": "90f03459",
   "metadata": {},
   "outputs": [],
   "source": [
    "def calc_fact(x):\n",
    "    if x==1:\n",
    "        return 1\n",
    "    else:\n",
    "        return(x*calc_fact(x-1))"
   ]
  },
  {
   "cell_type": "code",
   "execution_count": 34,
   "id": "067b07a4",
   "metadata": {},
   "outputs": [
    {
     "name": "stdout",
     "output_type": "stream",
     "text": [
      "120\n"
     ]
    }
   ],
   "source": [
    "number=5\n",
    "print(calc_fact(number))"
   ]
  },
  {
   "cell_type": "code",
   "execution_count": 39,
   "id": "e9b6bb31",
   "metadata": {},
   "outputs": [],
   "source": [
    "def skc(sahin):\n",
    "    if sahin==1:\n",
    "        return 1\n",
    "    else:\n",
    "        return (sahin*skc(sahin-1))"
   ]
  },
  {
   "cell_type": "code",
   "execution_count": 40,
   "id": "d26fe7f5",
   "metadata": {},
   "outputs": [
    {
     "name": "stdout",
     "output_type": "stream",
     "text": [
      "120\n"
     ]
    }
   ],
   "source": [
    "number=5\n",
    "print(skc(number))"
   ]
  },
  {
   "cell_type": "markdown",
   "id": "2f770d15",
   "metadata": {},
   "source": [
    "# Array"
   ]
  },
  {
   "cell_type": "code",
   "execution_count": 43,
   "id": "9ff3c04b",
   "metadata": {},
   "outputs": [],
   "source": [
    "cars=[\"bmw\",\"jaguar\",\"ford\"]\n",
    "x=cars[0]"
   ]
  },
  {
   "cell_type": "code",
   "execution_count": 44,
   "id": "befc90c2",
   "metadata": {},
   "outputs": [
    {
     "name": "stdout",
     "output_type": "stream",
     "text": [
      "bmw\n"
     ]
    }
   ],
   "source": [
    "print(x)"
   ]
  },
  {
   "cell_type": "code",
   "execution_count": 45,
   "id": "03c6fc3f",
   "metadata": {},
   "outputs": [
    {
     "data": {
      "text/plain": [
       "3"
      ]
     },
     "execution_count": 45,
     "metadata": {},
     "output_type": "execute_result"
    }
   ],
   "source": [
    "len(x)"
   ]
  },
  {
   "cell_type": "markdown",
   "id": "29f6abef",
   "metadata": {},
   "source": [
    "# Import "
   ]
  },
  {
   "cell_type": "code",
   "execution_count": 46,
   "id": "11112d7c",
   "metadata": {},
   "outputs": [],
   "source": [
    "import numpy"
   ]
  },
  {
   "cell_type": "code",
   "execution_count": null,
   "id": "a9c8d337",
   "metadata": {},
   "outputs": [],
   "source": []
  }
 ],
 "metadata": {
  "kernelspec": {
   "display_name": "Python 3 (ipykernel)",
   "language": "python",
   "name": "python3"
  },
  "language_info": {
   "codemirror_mode": {
    "name": "ipython",
    "version": 3
   },
   "file_extension": ".py",
   "mimetype": "text/x-python",
   "name": "python",
   "nbconvert_exporter": "python",
   "pygments_lexer": "ipython3",
   "version": "3.11.5"
  }
 },
 "nbformat": 4,
 "nbformat_minor": 5
}
