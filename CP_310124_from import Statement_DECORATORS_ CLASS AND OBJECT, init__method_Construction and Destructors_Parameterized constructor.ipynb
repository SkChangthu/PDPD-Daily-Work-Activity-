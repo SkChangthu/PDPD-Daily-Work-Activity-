{
 "cells": [
  {
   "cell_type": "markdown",
   "id": "b7f67cc9",
   "metadata": {},
   "source": [
    "# The from import Statement"
   ]
  },
  {
   "cell_type": "markdown",
   "id": "ae5a5c21",
   "metadata": {},
   "source": [
    "# importing sqrt() and factorial lets you import specific attributes from a module."
   ]
  },
  {
   "cell_type": "code",
   "execution_count": 1,
   "id": "12589242",
   "metadata": {},
   "outputs": [],
   "source": [
    "from math import sqrt, factorial"
   ]
  },
  {
   "cell_type": "code",
   "execution_count": 2,
   "id": "e8ca6ad1",
   "metadata": {},
   "outputs": [
    {
     "name": "stdout",
     "output_type": "stream",
     "text": [
      "4.0\n"
     ]
    }
   ],
   "source": [
    "print(sqrt(16))"
   ]
  },
  {
   "cell_type": "code",
   "execution_count": 3,
   "id": "687654bf",
   "metadata": {},
   "outputs": [],
   "source": [
    "import math "
   ]
  },
  {
   "cell_type": "code",
   "execution_count": 4,
   "id": "9b87f497",
   "metadata": {},
   "outputs": [
    {
     "name": "stdout",
     "output_type": "stream",
     "text": [
      "4.0\n"
     ]
    }
   ],
   "source": [
    "print(math.sqrt(16))"
   ]
  },
  {
   "cell_type": "code",
   "execution_count": 5,
   "id": "1afddeaf",
   "metadata": {},
   "outputs": [
    {
     "name": "stdout",
     "output_type": "stream",
     "text": [
      "20922789888000\n"
     ]
    }
   ],
   "source": [
    "print(factorial(16))"
   ]
  },
  {
   "cell_type": "code",
   "execution_count": 6,
   "id": "f06bfe49",
   "metadata": {},
   "outputs": [
    {
     "name": "stdout",
     "output_type": "stream",
     "text": [
      "20922789888000\n"
     ]
    }
   ],
   "source": [
    "print(math.factorial(16))"
   ]
  },
  {
   "cell_type": "code",
   "execution_count": 10,
   "id": "a4acef8c",
   "metadata": {},
   "outputs": [
    {
     "name": "stdout",
     "output_type": "stream",
     "text": [
      "15504\n"
     ]
    }
   ],
   "source": [
    "print(math.comb(20,5))"
   ]
  },
  {
   "cell_type": "code",
   "execution_count": 12,
   "id": "93fd21eb",
   "metadata": {},
   "outputs": [
    {
     "name": "stdout",
     "output_type": "stream",
     "text": [
      "24\n"
     ]
    }
   ],
   "source": [
    "print(math.factorial(4))"
   ]
  },
  {
   "cell_type": "markdown",
   "id": "c52cef3f",
   "metadata": {},
   "source": [
    "# The form import* Statement"
   ]
  },
  {
   "cell_type": "markdown",
   "id": "cdde26cc",
   "metadata": {},
   "source": [
    "# Syntex\n",
    "from module_name import*\n",
    "\n",
    "The use of* has it's advantages and disadvantages. If you know exactly want you will be"
   ]
  },
  {
   "cell_type": "code",
   "execution_count": 16,
   "id": "02180e39",
   "metadata": {},
   "outputs": [
    {
     "name": "stdout",
     "output_type": "stream",
     "text": [
      "['__call__', '__class__', '__delattr__', '__dir__', '__doc__', '__eq__', '__format__', '__ge__', '__getattribute__', '__getstate__', '__gt__', '__hash__', '__init__', '__init_subclass__', '__le__', '__lt__', '__module__', '__name__', '__ne__', '__new__', '__qualname__', '__reduce__', '__reduce_ex__', '__repr__', '__self__', '__setattr__', '__sizeof__', '__str__', '__subclasshook__', '__text_signature__']\n"
     ]
    }
   ],
   "source": [
    "from random import *\n",
    "print(dir(random))"
   ]
  },
  {
   "cell_type": "code",
   "execution_count": 17,
   "id": "84b26329",
   "metadata": {},
   "outputs": [
    {
     "name": "stdout",
     "output_type": "stream",
     "text": [
      "['__doc__', '__loader__', '__name__', '__package__', '__spec__', 'acos', 'acosh', 'asin', 'asinh', 'atan', 'atan2', 'atanh', 'cbrt', 'ceil', 'comb', 'copysign', 'cos', 'cosh', 'degrees', 'dist', 'e', 'erf', 'erfc', 'exp', 'exp2', 'expm1', 'fabs', 'factorial', 'floor', 'fmod', 'frexp', 'fsum', 'gamma', 'gcd', 'hypot', 'inf', 'isclose', 'isfinite', 'isinf', 'isnan', 'isqrt', 'lcm', 'ldexp', 'lgamma', 'log', 'log10', 'log1p', 'log2', 'modf', 'nan', 'nextafter', 'perm', 'pi', 'pow', 'prod', 'radians', 'remainder', 'sin', 'sinh', 'sqrt', 'tan', 'tanh', 'tau', 'trunc', 'ulp']\n"
     ]
    }
   ],
   "source": [
    "from math import *\n",
    "print(dir(math))"
   ]
  },
  {
   "cell_type": "markdown",
   "id": "c861d34d",
   "metadata": {},
   "source": [
    "# DECORATORS"
   ]
  },
  {
   "cell_type": "code",
   "execution_count": 32,
   "id": "e906276d",
   "metadata": {},
   "outputs": [],
   "source": [
    "@greet\n",
    "def hello():\n",
    "    print(\"Hello World\")"
   ]
  },
  {
   "cell_type": "code",
   "execution_count": 19,
   "id": "5abdf414",
   "metadata": {},
   "outputs": [
    {
     "name": "stdout",
     "output_type": "stream",
     "text": [
      "Hello World\n"
     ]
    }
   ],
   "source": [
    "hello()"
   ]
  },
  {
   "cell_type": "code",
   "execution_count": 22,
   "id": "4264fa76",
   "metadata": {},
   "outputs": [],
   "source": [
    "def greet(fx):\n",
    "    def mfx():\n",
    "        print(\"Good Morning\")\n",
    "        fx()\n",
    "        print(\"Thanks for using the function\")\n",
    "    return mfx"
   ]
  },
  {
   "cell_type": "code",
   "execution_count": 30,
   "id": "7125e294",
   "metadata": {},
   "outputs": [
    {
     "name": "stdout",
     "output_type": "stream",
     "text": [
      "<function greet.<locals>.mfx at 0x000001FB01421B20>\n"
     ]
    }
   ],
   "source": [
    "print(greet(hello))"
   ]
  },
  {
   "cell_type": "code",
   "execution_count": 31,
   "id": "cffefeb8",
   "metadata": {},
   "outputs": [
    {
     "name": "stdout",
     "output_type": "stream",
     "text": [
      "Good Morning\n",
      "Hello World\n",
      "Thanks for using the function\n"
     ]
    }
   ],
   "source": [
    "greet(hello)()"
   ]
  },
  {
   "cell_type": "code",
   "execution_count": 33,
   "id": "ef608727",
   "metadata": {},
   "outputs": [
    {
     "name": "stdout",
     "output_type": "stream",
     "text": [
      "Good Morning\n",
      "Hello World\n",
      "Thanks for using the function\n"
     ]
    }
   ],
   "source": [
    "hello()"
   ]
  },
  {
   "cell_type": "markdown",
   "id": "54e65198",
   "metadata": {},
   "source": [
    "# Example"
   ]
  },
  {
   "cell_type": "code",
   "execution_count": 43,
   "id": "55f51704",
   "metadata": {},
   "outputs": [],
   "source": [
    "@greet1\n",
    "def add(a,b):\n",
    "    print(a+b)"
   ]
  },
  {
   "cell_type": "code",
   "execution_count": 35,
   "id": "9287a72d",
   "metadata": {},
   "outputs": [
    {
     "ename": "TypeError",
     "evalue": "greet.<locals>.mfx() takes 0 positional arguments but 2 were given",
     "output_type": "error",
     "traceback": [
      "\u001b[1;31m---------------------------------------------------------------------------\u001b[0m",
      "\u001b[1;31mTypeError\u001b[0m                                 Traceback (most recent call last)",
      "Cell \u001b[1;32mIn[35], line 1\u001b[0m\n\u001b[1;32m----> 1\u001b[0m greet(add)(\u001b[38;5;241m1\u001b[39m,\u001b[38;5;241m2\u001b[39m)\n",
      "\u001b[1;31mTypeError\u001b[0m: greet.<locals>.mfx() takes 0 positional arguments but 2 were given"
     ]
    }
   ],
   "source": [
    "greet(add)(1,2)"
   ]
  },
  {
   "cell_type": "code",
   "execution_count": 40,
   "id": "2a97eab1",
   "metadata": {},
   "outputs": [],
   "source": [
    "def greet1(fx):\n",
    "    def mfx(*args, **kwargs):\n",
    "        print(\"Good Morning\")\n",
    "        fx(*args, **kwargs)\n",
    "        print(\"Thanks for using the function\")\n",
    "    return mfx"
   ]
  },
  {
   "cell_type": "code",
   "execution_count": 42,
   "id": "be77d9f2",
   "metadata": {},
   "outputs": [
    {
     "name": "stdout",
     "output_type": "stream",
     "text": [
      "Good Morning\n",
      "3\n",
      "Thanks for using the function\n"
     ]
    }
   ],
   "source": [
    "greet1(add)(1,2)"
   ]
  },
  {
   "cell_type": "code",
   "execution_count": 44,
   "id": "3ea8bf2b",
   "metadata": {},
   "outputs": [
    {
     "name": "stdout",
     "output_type": "stream",
     "text": [
      "Good Morning\n",
      "3\n",
      "Thanks for using the function\n"
     ]
    }
   ],
   "source": [
    "add(1,2)"
   ]
  },
  {
   "cell_type": "markdown",
   "id": "4698d5ef",
   "metadata": {},
   "source": [
    "# CLASS AND OBJECT"
   ]
  },
  {
   "cell_type": "code",
   "execution_count": 45,
   "id": "75b9d63b",
   "metadata": {},
   "outputs": [],
   "source": [
    "class cars:\n",
    "    attr1 =\"BMW\"\n",
    "    attr2 =\"series1\"\n",
    "    def fun(self):\n",
    "        print(\"I'm from\", self.attr1)\n",
    "        print(\"my models is\", self.attr2)"
   ]
  },
  {
   "cell_type": "code",
   "execution_count": 46,
   "id": "0eb14b2f",
   "metadata": {},
   "outputs": [],
   "source": [
    "john= cars()"
   ]
  },
  {
   "cell_type": "code",
   "execution_count": 47,
   "id": "0d2e9c51",
   "metadata": {},
   "outputs": [
    {
     "name": "stdout",
     "output_type": "stream",
     "text": [
      "BMW\n"
     ]
    }
   ],
   "source": [
    "print(john.attr1)"
   ]
  },
  {
   "cell_type": "code",
   "execution_count": 49,
   "id": "6091a08e",
   "metadata": {},
   "outputs": [
    {
     "name": "stdout",
     "output_type": "stream",
     "text": [
      "series1\n"
     ]
    }
   ],
   "source": [
    "print(john.attr2)"
   ]
  },
  {
   "cell_type": "code",
   "execution_count": 51,
   "id": "57b2417d",
   "metadata": {},
   "outputs": [
    {
     "name": "stdout",
     "output_type": "stream",
     "text": [
      "I'm from BMW\n",
      "my models is series1\n"
     ]
    }
   ],
   "source": [
    "john.fun()"
   ]
  },
  {
   "cell_type": "markdown",
   "id": "a2ab776e",
   "metadata": {},
   "source": [
    "# init__method"
   ]
  },
  {
   "cell_type": "code",
   "execution_count": 56,
   "id": "563906b7",
   "metadata": {},
   "outputs": [],
   "source": [
    "class person:\n",
    "    def __init__(self, name):\n",
    "        self.name=name\n",
    "    def say_hi(self):\n",
    "        print(\"hello, my name is\", self.name)"
   ]
  },
  {
   "cell_type": "code",
   "execution_count": 57,
   "id": "fab1cf94",
   "metadata": {},
   "outputs": [],
   "source": [
    "p=person(\"vignesh\")"
   ]
  },
  {
   "cell_type": "code",
   "execution_count": 58,
   "id": "8033ef52",
   "metadata": {},
   "outputs": [
    {
     "name": "stdout",
     "output_type": "stream",
     "text": [
      "hello, my name is vignesh\n"
     ]
    }
   ],
   "source": [
    "p.say_hi()"
   ]
  },
  {
   "cell_type": "code",
   "execution_count": 59,
   "id": "fcfc0c57",
   "metadata": {},
   "outputs": [],
   "source": [
    "q=person(\"Sahin\")"
   ]
  },
  {
   "cell_type": "code",
   "execution_count": 61,
   "id": "062e6fb9",
   "metadata": {},
   "outputs": [
    {
     "name": "stdout",
     "output_type": "stream",
     "text": [
      "hello, my name is Sahin\n"
     ]
    }
   ],
   "source": [
    "q.say_hi()"
   ]
  },
  {
   "cell_type": "markdown",
   "id": "90b3c1be",
   "metadata": {},
   "source": [
    "#eg 2. "
   ]
  },
  {
   "cell_type": "code",
   "execution_count": 65,
   "id": "b93ef57c",
   "metadata": {},
   "outputs": [],
   "source": [
    "class cars:\n",
    "    def __init__(self, brand, color):\n",
    "        self.brand=brand\n",
    "        self.color=color\n",
    "    def fun(self):\n",
    "        print(\"hello\", self.brand)\n",
    "        print(\"and color is\",self.color)"
   ]
  },
  {
   "cell_type": "code",
   "execution_count": 66,
   "id": "963a8ee3",
   "metadata": {},
   "outputs": [],
   "source": [
    "TATA=cars(\"Tesla\", \"blue\")"
   ]
  },
  {
   "cell_type": "code",
   "execution_count": 67,
   "id": "1d0fc14f",
   "metadata": {},
   "outputs": [
    {
     "name": "stdout",
     "output_type": "stream",
     "text": [
      "hello Tesla\n",
      "and color is blue\n"
     ]
    }
   ],
   "source": [
    "TATA.fun()"
   ]
  },
  {
   "cell_type": "code",
   "execution_count": 68,
   "id": "86df8cd6",
   "metadata": {},
   "outputs": [],
   "source": [
    "Suzaki=cars(\"Maruti\", \"Golden Blue\")"
   ]
  },
  {
   "cell_type": "code",
   "execution_count": 69,
   "id": "77d83e22",
   "metadata": {},
   "outputs": [
    {
     "name": "stdout",
     "output_type": "stream",
     "text": [
      "hello Maruti\n",
      "and color is Golden Blue\n"
     ]
    }
   ],
   "source": [
    "Suzaki.fun()"
   ]
  },
  {
   "cell_type": "code",
   "execution_count": 70,
   "id": "dd6c65fb",
   "metadata": {},
   "outputs": [],
   "source": [
    "del TATA.color"
   ]
  },
  {
   "cell_type": "code",
   "execution_count": 71,
   "id": "af9358b0",
   "metadata": {},
   "outputs": [
    {
     "name": "stdout",
     "output_type": "stream",
     "text": [
      "hello Tesla\n"
     ]
    },
    {
     "ename": "AttributeError",
     "evalue": "'cars' object has no attribute 'color'",
     "output_type": "error",
     "traceback": [
      "\u001b[1;31m---------------------------------------------------------------------------\u001b[0m",
      "\u001b[1;31mAttributeError\u001b[0m                            Traceback (most recent call last)",
      "Cell \u001b[1;32mIn[71], line 1\u001b[0m\n\u001b[1;32m----> 1\u001b[0m TATA\u001b[38;5;241m.\u001b[39mfun()\n",
      "Cell \u001b[1;32mIn[65], line 7\u001b[0m, in \u001b[0;36mcars.fun\u001b[1;34m(self)\u001b[0m\n\u001b[0;32m      5\u001b[0m \u001b[38;5;28;01mdef\u001b[39;00m \u001b[38;5;21mfun\u001b[39m(\u001b[38;5;28mself\u001b[39m):\n\u001b[0;32m      6\u001b[0m     \u001b[38;5;28mprint\u001b[39m(\u001b[38;5;124m\"\u001b[39m\u001b[38;5;124mhello\u001b[39m\u001b[38;5;124m\"\u001b[39m, \u001b[38;5;28mself\u001b[39m\u001b[38;5;241m.\u001b[39mbrand)\n\u001b[1;32m----> 7\u001b[0m     \u001b[38;5;28mprint\u001b[39m(\u001b[38;5;124m\"\u001b[39m\u001b[38;5;124mand color is\u001b[39m\u001b[38;5;124m\"\u001b[39m,\u001b[38;5;28mself\u001b[39m\u001b[38;5;241m.\u001b[39mcolor)\n",
      "\u001b[1;31mAttributeError\u001b[0m: 'cars' object has no attribute 'color'"
     ]
    }
   ],
   "source": [
    "TATA.fun()"
   ]
  },
  {
   "cell_type": "code",
   "execution_count": 72,
   "id": "ec2fe228",
   "metadata": {},
   "outputs": [],
   "source": [
    "del TATA"
   ]
  },
  {
   "cell_type": "code",
   "execution_count": 73,
   "id": "1df785fa",
   "metadata": {},
   "outputs": [
    {
     "ename": "NameError",
     "evalue": "name 'TATA' is not defined",
     "output_type": "error",
     "traceback": [
      "\u001b[1;31m---------------------------------------------------------------------------\u001b[0m",
      "\u001b[1;31mNameError\u001b[0m                                 Traceback (most recent call last)",
      "Cell \u001b[1;32mIn[73], line 1\u001b[0m\n\u001b[1;32m----> 1\u001b[0m TATA\u001b[38;5;241m.\u001b[39mfun()\n",
      "\u001b[1;31mNameError\u001b[0m: name 'TATA' is not defined"
     ]
    }
   ],
   "source": [
    "TATA.fun()"
   ]
  },
  {
   "cell_type": "markdown",
   "id": "4c681642",
   "metadata": {},
   "source": [
    "# Construction and Destructors"
   ]
  },
  {
   "cell_type": "code",
   "execution_count": 75,
   "id": "07a672cd",
   "metadata": {},
   "outputs": [],
   "source": [
    "#Eg\n",
    "class Myclass:\n",
    "    def __init__(self):\n",
    "        self.hello=\"hello\"\n",
    "    def print_hello(self):\n",
    "        print(self.hello)"
   ]
  },
  {
   "cell_type": "code",
   "execution_count": 76,
   "id": "3c484fd5",
   "metadata": {},
   "outputs": [],
   "source": [
    "obj=Myclass()"
   ]
  },
  {
   "cell_type": "code",
   "execution_count": 77,
   "id": "311c87fd",
   "metadata": {},
   "outputs": [
    {
     "data": {
      "text/plain": [
       "__main__.Myclass"
      ]
     },
     "execution_count": 77,
     "metadata": {},
     "output_type": "execute_result"
    }
   ],
   "source": [
    "type(obj)"
   ]
  },
  {
   "cell_type": "code",
   "execution_count": 78,
   "id": "ca3b75f1",
   "metadata": {},
   "outputs": [
    {
     "name": "stdout",
     "output_type": "stream",
     "text": [
      "hello\n",
      "None\n"
     ]
    }
   ],
   "source": [
    "print(obj.print_hello())"
   ]
  },
  {
   "cell_type": "markdown",
   "id": "a3e581f3",
   "metadata": {},
   "source": [
    "# Eg of Parameterized constructor"
   ]
  },
  {
   "cell_type": "code",
   "execution_count": 90,
   "id": "b55fe661",
   "metadata": {},
   "outputs": [],
   "source": [
    "class Myclass:\n",
    "    first=0\n",
    "    second=0\n",
    "    answer=0\n",
    "    def __init__(self,f,s):\n",
    "        self.first=f\n",
    "        self.second=s\n",
    "    def display(self):\n",
    "        print(\"First number=\"+str(self.first))\n",
    "        print(\"second number=\"+str(self.second))\n",
    "        print(\"Addition of two numbers=\"+str(self.answer))\n",
    "    def calculate(self):\n",
    "        self.answer=self.first+self.second"
   ]
  },
  {
   "cell_type": "code",
   "execution_count": 91,
   "id": "181e1133",
   "metadata": {},
   "outputs": [],
   "source": [
    "obj=Myclass(2000,2000)"
   ]
  },
  {
   "cell_type": "code",
   "execution_count": 92,
   "id": "21f7d7a0",
   "metadata": {},
   "outputs": [],
   "source": [
    "obj.calculate()"
   ]
  },
  {
   "cell_type": "code",
   "execution_count": 93,
   "id": "57ad0d1a",
   "metadata": {},
   "outputs": [
    {
     "name": "stdout",
     "output_type": "stream",
     "text": [
      "First number=2000\n",
      "second number=2000\n",
      "Addition of two numbers=4000\n"
     ]
    }
   ],
   "source": [
    "obj.display()"
   ]
  },
  {
   "cell_type": "markdown",
   "id": "d644a289",
   "metadata": {},
   "source": [
    "# Destructors"
   ]
  },
  {
   "cell_type": "code",
   "execution_count": 105,
   "id": "6a96615c",
   "metadata": {},
   "outputs": [],
   "source": [
    "# Syntex\n",
    "\n",
    "def __del__(self):\n",
    "    print('Employee created.')\n",
    "def __del__(self):\n",
    "    print(\"Destructor called, Employee deleted.\")"
   ]
  },
  {
   "cell_type": "code",
   "execution_count": 106,
   "id": "b5fb86f8",
   "metadata": {},
   "outputs": [
    {
     "ename": "NameError",
     "evalue": "name 'employee' is not defined",
     "output_type": "error",
     "traceback": [
      "\u001b[1;31m---------------------------------------------------------------------------\u001b[0m",
      "\u001b[1;31mNameError\u001b[0m                                 Traceback (most recent call last)",
      "Cell \u001b[1;32mIn[106], line 1\u001b[0m\n\u001b[1;32m----> 1\u001b[0m obj\u001b[38;5;241m=\u001b[39memployee()\n",
      "\u001b[1;31mNameError\u001b[0m: name 'employee' is not defined"
     ]
    }
   ],
   "source": [
    "obj=employee()"
   ]
  }
 ],
 "metadata": {
  "kernelspec": {
   "display_name": "Python 3 (ipykernel)",
   "language": "python",
   "name": "python3"
  },
  "language_info": {
   "codemirror_mode": {
    "name": "ipython",
    "version": 3
   },
   "file_extension": ".py",
   "mimetype": "text/x-python",
   "name": "python",
   "nbconvert_exporter": "python",
   "pygments_lexer": "ipython3",
   "version": "3.11.5"
  }
 },
 "nbformat": 4,
 "nbformat_minor": 5
}
