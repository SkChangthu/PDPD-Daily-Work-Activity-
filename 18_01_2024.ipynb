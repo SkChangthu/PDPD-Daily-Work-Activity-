{
 "cells": [
  {
   "cell_type": "markdown",
   "id": "69ae35a4",
   "metadata": {},
   "source": [
    "# PYTHON-SLICING"
   ]
  },
  {
   "cell_type": "code",
   "execution_count": 3,
   "id": "168eaadc",
   "metadata": {},
   "outputs": [
    {
     "name": "stdout",
     "output_type": "stream",
     "text": [
      "changthu\n"
     ]
    }
   ],
   "source": [
    "#PYTHON-SLICING\n",
    "sk=\"skchangthushainsahil\"\n",
    "print(sk[2:10])"
   ]
  },
  {
   "cell_type": "code",
   "execution_count": 7,
   "id": "8fb9063d",
   "metadata": {},
   "outputs": [
    {
     "name": "stdout",
     "output_type": "stream",
     "text": [
      "sniah\n"
     ]
    }
   ],
   "source": [
    "print(sk[-5:-10:-1])"
   ]
  },
  {
   "cell_type": "code",
   "execution_count": 9,
   "id": "c1d75f75",
   "metadata": {},
   "outputs": [
    {
     "name": "stdout",
     "output_type": "stream",
     "text": [
      "hsuhtgn\n"
     ]
    }
   ],
   "source": [
    "print(sk[-9:-16:-1])"
   ]
  },
  {
   "cell_type": "code",
   "execution_count": 10,
   "id": "3081f625",
   "metadata": {},
   "outputs": [
    {
     "name": "stdout",
     "output_type": "stream",
     "text": [
      "lihasniahsuhtgnahck\n"
     ]
    }
   ],
   "source": [
    "print(sk[-1:0:-1])"
   ]
  },
  {
   "cell_type": "code",
   "execution_count": 13,
   "id": "332df7e5",
   "metadata": {},
   "outputs": [
    {
     "name": "stdout",
     "output_type": "stream",
     "text": [
      "lihasniahsuhtgnah\n"
     ]
    }
   ],
   "source": [
    "print(sk[-1:-18:-1])"
   ]
  },
  {
   "cell_type": "code",
   "execution_count": 14,
   "id": "9b943281",
   "metadata": {},
   "outputs": [
    {
     "name": "stdout",
     "output_type": "stream",
     "text": [
      "lihasniahsuhtgnahc\n"
     ]
    }
   ],
   "source": [
    "print(sk[-1:1:-1])"
   ]
  },
  {
   "cell_type": "code",
   "execution_count": 17,
   "id": "b241476f",
   "metadata": {},
   "outputs": [
    {
     "name": "stdout",
     "output_type": "stream",
     "text": [
      "\n"
     ]
    }
   ],
   "source": [
    "print(sk[-1:-en(sk)"
   ]
  },
  {
   "cell_type": "markdown",
   "id": "c3ce344e",
   "metadata": {},
   "source": [
    "# Q- Print a string in inverse from using slicing?"
   ]
  },
  {
   "cell_type": "code",
   "execution_count": 20,
   "id": "d616d675",
   "metadata": {},
   "outputs": [
    {
     "name": "stdout",
     "output_type": "stream",
     "text": [
      "lihasniahsuhtgnahcks\n"
     ]
    }
   ],
   "source": [
    "sk=\"skchangthushainsahil\"\n",
    "print(sk[-1:-len(sk)-1:-1])"
   ]
  },
  {
   "cell_type": "code",
   "execution_count": 21,
   "id": "0cf30cd0",
   "metadata": {},
   "outputs": [
    {
     "data": {
      "text/plain": [
       "20"
      ]
     },
     "execution_count": 21,
     "metadata": {},
     "output_type": "execute_result"
    }
   ],
   "source": [
    "len(sk)"
   ]
  },
  {
   "cell_type": "code",
   "execution_count": 22,
   "id": "d71e1c6f",
   "metadata": {},
   "outputs": [
    {
     "name": "stdout",
     "output_type": "stream",
     "text": [
      "skchangthushainsahi\n"
     ]
    }
   ],
   "source": [
    "print(sk[:-1])"
   ]
  },
  {
   "cell_type": "code",
   "execution_count": 23,
   "id": "1c829ff8",
   "metadata": {},
   "outputs": [
    {
     "name": "stdout",
     "output_type": "stream",
     "text": [
      "skchangthushainsahil\n"
     ]
    }
   ],
   "source": [
    "# Sotp is not here by defolt it's print up to last point\n",
    "print(sk[0:])"
   ]
  },
  {
   "cell_type": "code",
   "execution_count": 24,
   "id": "643ce8b9",
   "metadata": {},
   "outputs": [
    {
     "name": "stdout",
     "output_type": "stream",
     "text": [
      "scaghsanai\n"
     ]
    }
   ],
   "source": [
    "# check 2 step forward\n",
    "print(sk[::2])"
   ]
  },
  {
   "cell_type": "code",
   "execution_count": 25,
   "id": "71b23410",
   "metadata": {},
   "outputs": [
    {
     "name": "stdout",
     "output_type": "stream",
     "text": [
      "lhsihutnhk\n"
     ]
    }
   ],
   "source": [
    "# check 2 step backward \n",
    "print(sk[::-2])"
   ]
  },
  {
   "cell_type": "markdown",
   "id": "8d356b01",
   "metadata": {},
   "source": [
    "# Q- Print a string in inverse from using slicing?"
   ]
  },
  {
   "cell_type": "code",
   "execution_count": 27,
   "id": "7a9d9706",
   "metadata": {},
   "outputs": [
    {
     "name": "stdout",
     "output_type": "stream",
     "text": [
      "lihasniahsuhtgnahcks\n"
     ]
    }
   ],
   "source": [
    "# check 2 step backward \n",
    "print(sk[::-1])"
   ]
  },
  {
   "cell_type": "code",
   "execution_count": 29,
   "id": "ef5e2246",
   "metadata": {},
   "outputs": [
    {
     "name": "stdout",
     "output_type": "stream",
     "text": [
      "shguasi\n"
     ]
    }
   ],
   "source": [
    "# check 3 step forkwardb same as backword\n",
    "print(sk[0::3])"
   ]
  },
  {
   "cell_type": "code",
   "execution_count": 32,
   "id": "e91eef12",
   "metadata": {},
   "outputs": [
    {
     "name": "stdout",
     "output_type": "stream",
     "text": [
      "orl\n"
     ]
    }
   ],
   "source": [
    "# Q- We can use negative indexes to start the slice from the end of the sting:\n",
    "b=\"hello, world!\"\n",
    "print(b[-5:-2])"
   ]
  },
  {
   "cell_type": "markdown",
   "id": "4baaa85e",
   "metadata": {},
   "source": [
    "# We can make a string word all uppercase and lowercase."
   ]
  },
  {
   "cell_type": "code",
   "execution_count": 33,
   "id": "4640ebbe",
   "metadata": {},
   "outputs": [
    {
     "name": "stdout",
     "output_type": "stream",
     "text": [
      "HELLO PYTHON\n"
     ]
    }
   ],
   "source": [
    "# for uppercase we use upper() function. And lower() function to lower case\n",
    "#Eg:\n",
    "word=\"hello python\"\n",
    "print(word.upper())"
   ]
  },
  {
   "cell_type": "code",
   "execution_count": 34,
   "id": "d3b45e2b",
   "metadata": {},
   "outputs": [
    {
     "name": "stdout",
     "output_type": "stream",
     "text": [
      "hello python\n"
     ]
    }
   ],
   "source": [
    "#Eg:\n",
    "word=\"HELLO PYTHON\"\n",
    "print(word.lower())"
   ]
  },
  {
   "cell_type": "code",
   "execution_count": 35,
   "id": "559e87a7",
   "metadata": {},
   "outputs": [
    {
     "name": "stdout",
     "output_type": "stream",
     "text": [
      "hello, world!\n"
     ]
    }
   ],
   "source": [
    "# We can remove white space with a strip() function. Whitespace is the space before and/or after the actual text, and very often you want to removethis space.\n",
    "#Eg:\n",
    "a=\" hello, world! \"\n",
    "print(a.strip())"
   ]
  },
  {
   "cell_type": "code",
   "execution_count": 36,
   "id": "682dc377",
   "metadata": {},
   "outputs": [
    {
     "name": "stdout",
     "output_type": "stream",
     "text": [
      " hello, world! \n"
     ]
    }
   ],
   "source": [
    "print(a)"
   ]
  },
  {
   "cell_type": "markdown",
   "id": "f0033785",
   "metadata": {},
   "source": [
    "# We can replace a letter in a string by replace() function,"
   ]
  },
  {
   "cell_type": "code",
   "execution_count": 37,
   "id": "844b510f",
   "metadata": {},
   "outputs": [
    {
     "name": "stdout",
     "output_type": "stream",
     "text": [
      "Sello, World\n"
     ]
    }
   ],
   "source": [
    "# We can replace a letter in a string by replace() function,\n",
    "a=\"Hello, World\"\n",
    "print(a.replace(\"H\",\"S\"))"
   ]
  },
  {
   "cell_type": "markdown",
   "id": "60ca27ae",
   "metadata": {},
   "source": [
    "# The split() method returns a list where the text between the specified separator becomes the list items."
   ]
  },
  {
   "cell_type": "code",
   "execution_count": 38,
   "id": "a1fa9e90",
   "metadata": {},
   "outputs": [
    {
     "name": "stdout",
     "output_type": "stream",
     "text": [
      "['hello', ' world!']\n"
     ]
    }
   ],
   "source": [
    "a=\"hello, world!\"\n",
    "print(a.split(\",\"))"
   ]
  },
  {
   "cell_type": "code",
   "execution_count": 39,
   "id": "36bf2966",
   "metadata": {},
   "outputs": [
    {
     "name": "stdout",
     "output_type": "stream",
     "text": [
      "['Hello', 'World!']\n"
     ]
    }
   ],
   "source": [
    "a=\"Hello World!\"\n",
    "print(a.split(\" \"))"
   ]
  },
  {
   "cell_type": "code",
   "execution_count": 40,
   "id": "a9e2f10d",
   "metadata": {},
   "outputs": [
    {
     "name": "stdout",
     "output_type": "stream",
     "text": [
      "hellopython\n"
     ]
    }
   ],
   "source": [
    "#Concatenation \n",
    "# Q- We can use + operator to combile, or concatenation.\n",
    "A=\"hello\"\n",
    "B=\"python\"\n",
    "v=A+B\n",
    "print(v)"
   ]
  },
  {
   "cell_type": "markdown",
   "id": "958cad61",
   "metadata": {},
   "source": [
    "# String format "
   ]
  },
  {
   "cell_type": "code",
   "execution_count": 41,
   "id": "f4a8618c",
   "metadata": {},
   "outputs": [
    {
     "ename": "TypeError",
     "evalue": "can only concatenate str (not \"int\") to str",
     "output_type": "error",
     "traceback": [
      "\u001b[1;31m---------------------------------------------------------------------------\u001b[0m",
      "\u001b[1;31mTypeError\u001b[0m                                 Traceback (most recent call last)",
      "Cell \u001b[1;32mIn[41], line 3\u001b[0m\n\u001b[0;32m      1\u001b[0m \u001b[38;5;66;03m# We cannot combine strings and numbers like this:\u001b[39;00m\n\u001b[0;32m      2\u001b[0m age\u001b[38;5;241m=\u001b[39m\u001b[38;5;241m36\u001b[39m\n\u001b[1;32m----> 3\u001b[0m txt\u001b[38;5;241m=\u001b[39m\u001b[38;5;124m\"\u001b[39m\u001b[38;5;124mMy name is sahil, I am\u001b[39m\u001b[38;5;124m\"\u001b[39m\u001b[38;5;241m+\u001b[39m age\n\u001b[0;32m      4\u001b[0m \u001b[38;5;28mprint\u001b[39m(txt)\n",
      "\u001b[1;31mTypeError\u001b[0m: can only concatenate str (not \"int\") to str"
     ]
    }
   ],
   "source": [
    "# We cannot combine strings and numbers like this:\n",
    "age=36\n",
    "txt=\"My name is sahil, I am\"+ age\n",
    "print(txt)"
   ]
  },
  {
   "cell_type": "markdown",
   "id": "cdd9f9b7",
   "metadata": {},
   "source": [
    "# The format() method takes the passed arguments, formates then, and places then in the string where the placeholder {} are:"
   ]
  },
  {
   "cell_type": "code",
   "execution_count": 44,
   "id": "8b943280",
   "metadata": {},
   "outputs": [
    {
     "name": "stdout",
     "output_type": "stream",
     "text": [
      "My name is Sahil, and I am 36\n"
     ]
    }
   ],
   "source": [
    "age=36\n",
    "txt=\"My name is Sahil, and I am {}\"\n",
    "print(txt.format(age))"
   ]
  },
  {
   "cell_type": "markdown",
   "id": "8553fc1f",
   "metadata": {},
   "source": [
    "# The format() method takes unlimited number of arguments, and are placed into the respective placeholders:"
   ]
  },
  {
   "cell_type": "code",
   "execution_count": 45,
   "id": "56fc9c2c",
   "metadata": {},
   "outputs": [
    {
     "name": "stdout",
     "output_type": "stream",
     "text": [
      "I want10 of my order4776 for 3212 rupees.\n"
     ]
    }
   ],
   "source": [
    "amount=3212\n",
    "orderno=4776\n",
    "quantity=10\n",
    "myorder=\"I want{} of my order{} for {} rupees.\"\n",
    "print(myorder.format(quantity,orderno,amount))"
   ]
  },
  {
   "cell_type": "markdown",
   "id": "93d5cac9",
   "metadata": {},
   "source": [
    "# Escape Character"
   ]
  },
  {
   "cell_type": "code",
   "execution_count": 49,
   "id": "38fe9ace",
   "metadata": {},
   "outputs": [
    {
     "name": "stdout",
     "output_type": "stream",
     "text": [
      "We are the so-called \"Vikings\" from the north.\n"
     ]
    }
   ],
   "source": [
    "txt=\"We are the so-called \\\"Vikings\\\" from the north.\"\n",
    "print(txt)"
   ]
  },
  {
   "cell_type": "markdown",
   "id": "d94314f1",
   "metadata": {},
   "source": [
    "# Python Booleans"
   ]
  },
  {
   "cell_type": "code",
   "execution_count": 50,
   "id": "103a9e72",
   "metadata": {},
   "outputs": [
    {
     "name": "stdout",
     "output_type": "stream",
     "text": [
      "True\n"
     ]
    }
   ],
   "source": [
    "print(10==10)"
   ]
  },
  {
   "cell_type": "code",
   "execution_count": 51,
   "id": "500fbb47",
   "metadata": {},
   "outputs": [
    {
     "name": "stdout",
     "output_type": "stream",
     "text": [
      "False\n"
     ]
    }
   ],
   "source": [
    "print(10<9)"
   ]
  },
  {
   "cell_type": "code",
   "execution_count": 52,
   "id": "0298e611",
   "metadata": {},
   "outputs": [
    {
     "name": "stdout",
     "output_type": "stream",
     "text": [
      "False\n"
     ]
    }
   ],
   "source": [
    "print(10==100)"
   ]
  },
  {
   "cell_type": "code",
   "execution_count": 53,
   "id": "61f119d7",
   "metadata": {},
   "outputs": [
    {
     "name": "stdout",
     "output_type": "stream",
     "text": [
      "True\n"
     ]
    }
   ],
   "source": [
    "print(10**2==100)"
   ]
  },
  {
   "cell_type": "markdown",
   "id": "acacb84c",
   "metadata": {},
   "source": [
    "# In python almost every value is True:\n",
    "## Almost any value is evaluated to True if it has some sort of content.\n",
    "## Any string is True, except empty string.\n",
    "## Any number is True, except 0.\n",
    "## Any list, tuple, set, and dictinory are True, except empty ones."
   ]
  },
  {
   "cell_type": "code",
   "execution_count": 54,
   "id": "bf7e2adf",
   "metadata": {},
   "outputs": [
    {
     "name": "stdout",
     "output_type": "stream",
     "text": [
      "True\n"
     ]
    }
   ],
   "source": [
    "# Eg:\n",
    "print(bool(\"hello\"))"
   ]
  },
  {
   "cell_type": "code",
   "execution_count": 55,
   "id": "c0e08531",
   "metadata": {},
   "outputs": [
    {
     "name": "stdout",
     "output_type": "stream",
     "text": [
      "False\n"
     ]
    }
   ],
   "source": [
    "print(bool(\"\"))"
   ]
  },
  {
   "cell_type": "code",
   "execution_count": 56,
   "id": "b33369cf",
   "metadata": {},
   "outputs": [
    {
     "name": "stdout",
     "output_type": "stream",
     "text": [
      "True\n"
     ]
    }
   ],
   "source": [
    "print(bool(1))"
   ]
  },
  {
   "cell_type": "code",
   "execution_count": 57,
   "id": "10e95474",
   "metadata": {},
   "outputs": [
    {
     "name": "stdout",
     "output_type": "stream",
     "text": [
      "False\n"
     ]
    }
   ],
   "source": [
    "print(bool(0))"
   ]
  },
  {
   "cell_type": "code",
   "execution_count": 58,
   "id": "96d4a96d",
   "metadata": {},
   "outputs": [
    {
     "name": "stdout",
     "output_type": "stream",
     "text": [
      "True\n"
     ]
    }
   ],
   "source": [
    "print(bool([\"apple\", \"cherry\", \"banana\"]))"
   ]
  },
  {
   "cell_type": "code",
   "execution_count": 59,
   "id": "eccad0e2",
   "metadata": {},
   "outputs": [
    {
     "name": "stdout",
     "output_type": "stream",
     "text": [
      "False\n"
     ]
    }
   ],
   "source": [
    "print(bool([]))"
   ]
  },
  {
   "cell_type": "code",
   "execution_count": 62,
   "id": "2aec6550",
   "metadata": {},
   "outputs": [
    {
     "name": "stdout",
     "output_type": "stream",
     "text": [
      "False\n"
     ]
    }
   ],
   "source": [
    "print(bool(False))"
   ]
  },
  {
   "cell_type": "code",
   "execution_count": 64,
   "id": "10b57a27",
   "metadata": {},
   "outputs": [
    {
     "name": "stdout",
     "output_type": "stream",
     "text": [
      "False\n"
     ]
    }
   ],
   "source": [
    "print(bool(None))"
   ]
  },
  {
   "cell_type": "code",
   "execution_count": 68,
   "id": "1bda2582",
   "metadata": {},
   "outputs": [
    {
     "name": "stdout",
     "output_type": "stream",
     "text": [
      "False\n"
     ]
    }
   ],
   "source": [
    "print(bool(0))"
   ]
  },
  {
   "cell_type": "code",
   "execution_count": 67,
   "id": "e8d713da",
   "metadata": {},
   "outputs": [
    {
     "data": {
      "text/plain": [
       "False"
      ]
     },
     "execution_count": 67,
     "metadata": {},
     "output_type": "execute_result"
    }
   ],
   "source": [
    "bool(())"
   ]
  },
  {
   "cell_type": "code",
   "execution_count": 69,
   "id": "6b90b0dd",
   "metadata": {},
   "outputs": [
    {
     "data": {
      "text/plain": [
       "False"
      ]
     },
     "execution_count": 69,
     "metadata": {},
     "output_type": "execute_result"
    }
   ],
   "source": [
    "bool([])"
   ]
  },
  {
   "cell_type": "markdown",
   "id": "eb1d5ca3",
   "metadata": {},
   "source": [
    "# The above program will be a function we will discuss this in function section."
   ]
  },
  {
   "cell_type": "code",
   "execution_count": 70,
   "id": "48c6ef7e",
   "metadata": {},
   "outputs": [
    {
     "name": "stdout",
     "output_type": "stream",
     "text": [
      "True\n"
     ]
    }
   ],
   "source": [
    "x=200\n",
    "print(isinstance(x, int))"
   ]
  },
  {
   "cell_type": "code",
   "execution_count": 71,
   "id": "e888813c",
   "metadata": {},
   "outputs": [
    {
     "name": "stdout",
     "output_type": "stream",
     "text": [
      "False\n"
     ]
    }
   ],
   "source": [
    "x=200\n",
    "print(isinstance(x, str))"
   ]
  },
  {
   "cell_type": "markdown",
   "id": "6bd0a490",
   "metadata": {},
   "source": [
    "# PYTHON PERTATORS"
   ]
  },
  {
   "cell_type": "markdown",
   "id": "c464c263",
   "metadata": {},
   "source": [
    "# Python divides the operators in the following group:\n",
    "## 1. Arithmetic operator---  ' + '\n",
    "## 2. Assignment operators--- ' = '\n",
    "## 3. Comparision operators--- ' ==, <, >, '\n",
    "## 4. Logical operators--- ' or, in, not in '\n",
    "## 5. Identity operators---\n",
    "## 6. Membership operators--- \n",
    "## 7. Bitwise operators---"
   ]
  },
  {
   "cell_type": "code",
   "execution_count": null,
   "id": "6815145a",
   "metadata": {},
   "outputs": [],
   "source": []
  }
 ],
 "metadata": {
  "kernelspec": {
   "display_name": "Python 3 (ipykernel)",
   "language": "python",
   "name": "python3"
  },
  "language_info": {
   "codemirror_mode": {
    "name": "ipython",
    "version": 3
   },
   "file_extension": ".py",
   "mimetype": "text/x-python",
   "name": "python",
   "nbconvert_exporter": "python",
   "pygments_lexer": "ipython3",
   "version": "3.11.5"
  }
 },
 "nbformat": 4,
 "nbformat_minor": 5
}
