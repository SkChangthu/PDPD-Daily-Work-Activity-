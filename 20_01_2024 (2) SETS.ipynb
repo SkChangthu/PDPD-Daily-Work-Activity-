{
 "cells": [
  {
   "cell_type": "markdown",
   "id": "6d47e9e7",
   "metadata": {},
   "source": [
    "# TUPLES ( Unchangeable ot immutable)"
   ]
  },
  {
   "cell_type": "markdown",
   "id": "d295b600",
   "metadata": {},
   "source": [
    "## 1. List, 2. Tuple, 3. Dictnory 4. Set \n",
    "## Tuples start and end with rount bracket."
   ]
  },
  {
   "cell_type": "code",
   "execution_count": 1,
   "id": "fa70ffd2",
   "metadata": {},
   "outputs": [
    {
     "name": "stdout",
     "output_type": "stream",
     "text": [
      "('apple', 'orange', 'kiwi')\n"
     ]
    }
   ],
   "source": [
    "fruits=(\"apple\",\"orange\",\"kiwi\")\n",
    "print(fruits)"
   ]
  },
  {
   "cell_type": "code",
   "execution_count": 7,
   "id": "5a3a83be",
   "metadata": {},
   "outputs": [
    {
     "name": "stdout",
     "output_type": "stream",
     "text": [
      "<class 'tuple'>\n"
     ]
    }
   ],
   "source": [
    "print(type(fruits))"
   ]
  },
  {
   "cell_type": "markdown",
   "id": "8d9c3f40",
   "metadata": {},
   "source": [
    "## len function for finding how many eliment in a tuple"
   ]
  },
  {
   "cell_type": "code",
   "execution_count": 4,
   "id": "b27cf1a4",
   "metadata": {},
   "outputs": [
    {
     "name": "stdout",
     "output_type": "stream",
     "text": [
      "4\n"
     ]
    }
   ],
   "source": [
    "fruits=(\"apple\",\"orange\",\"kiwi\",\"pine apple\")\n",
    "print(len(fruits))"
   ]
  },
  {
   "cell_type": "markdown",
   "id": "de2e241c",
   "metadata": {},
   "source": [
    "## wee can inpute of datatypes in a tuple. string, int and boolean."
   ]
  },
  {
   "cell_type": "code",
   "execution_count": 5,
   "id": "5e400fd9",
   "metadata": {},
   "outputs": [],
   "source": [
    "variety=(\"abc\",34, True, 40, \"make\")"
   ]
  },
  {
   "cell_type": "code",
   "execution_count": 6,
   "id": "54173971",
   "metadata": {},
   "outputs": [
    {
     "name": "stdout",
     "output_type": "stream",
     "text": [
      "('abc', 34, True, 40, 'make')\n"
     ]
    }
   ],
   "source": [
    "print(variety)"
   ]
  },
  {
   "cell_type": "markdown",
   "id": "36972c09",
   "metadata": {},
   "source": [
    "## Accessing an item in tuple is just like we access in list, we need to specify the index of the item we need to get."
   ]
  },
  {
   "cell_type": "code",
   "execution_count": 9,
   "id": "85aedf9b",
   "metadata": {},
   "outputs": [
    {
     "name": "stdout",
     "output_type": "stream",
     "text": [
      "banana\n"
     ]
    }
   ],
   "source": [
    "fruits=(\"apple\",\"banana\",\"cherry\")\n",
    "print(fruits[1])"
   ]
  },
  {
   "cell_type": "markdown",
   "id": "3ef05f09",
   "metadata": {},
   "source": [
    "## As like the list we can negative index them too."
   ]
  },
  {
   "cell_type": "code",
   "execution_count": 10,
   "id": "a694ecf8",
   "metadata": {},
   "outputs": [
    {
     "name": "stdout",
     "output_type": "stream",
     "text": [
      "kiwi\n"
     ]
    }
   ],
   "source": [
    "fruits=(\"apple\",\"orange\",\"kiwi\")\n",
    "print(fruits[-1])"
   ]
  },
  {
   "cell_type": "markdown",
   "id": "60459a61",
   "metadata": {},
   "source": [
    "## As mentioned we can get items form the given range."
   ]
  },
  {
   "cell_type": "code",
   "execution_count": 11,
   "id": "3349495a",
   "metadata": {},
   "outputs": [
    {
     "name": "stdout",
     "output_type": "stream",
     "text": [
      "('orane', 'kiwi', 'melon')\n"
     ]
    }
   ],
   "source": [
    "fruits=(\"apple\",\"banana\",\"cherry\",\"orane\",\"kiwi\",\"melon\")\n",
    "print(fruits[3:])"
   ]
  },
  {
   "cell_type": "markdown",
   "id": "ffc06a45",
   "metadata": {},
   "source": [
    "## As earlier we said PPT-101"
   ]
  },
  {
   "cell_type": "code",
   "execution_count": 12,
   "id": "74ec10c8",
   "metadata": {},
   "outputs": [
    {
     "name": "stdout",
     "output_type": "stream",
     "text": [
      "('apple', 'banana', 'cherry')\n"
     ]
    }
   ],
   "source": [
    "x=(\"apple\",\"banana\",\"cherry\")\n",
    "y=list(x)\n",
    "y[1]=\"watermelon\"\n",
    "print(x)"
   ]
  },
  {
   "cell_type": "code",
   "execution_count": 13,
   "id": "a3929554",
   "metadata": {},
   "outputs": [],
   "source": [
    "x=(\"apple\",\"banana\",\"cherry\")\n"
   ]
  },
  {
   "cell_type": "code",
   "execution_count": 14,
   "id": "53e5b689",
   "metadata": {},
   "outputs": [
    {
     "data": {
      "text/plain": [
       "tuple"
      ]
     },
     "execution_count": 14,
     "metadata": {},
     "output_type": "execute_result"
    }
   ],
   "source": [
    "type(x)"
   ]
  },
  {
   "cell_type": "code",
   "execution_count": 15,
   "id": "efda505c",
   "metadata": {},
   "outputs": [],
   "source": [
    "y=list(x)"
   ]
  },
  {
   "cell_type": "code",
   "execution_count": 16,
   "id": "039ed1e4",
   "metadata": {},
   "outputs": [
    {
     "data": {
      "text/plain": [
       "list"
      ]
     },
     "execution_count": 16,
     "metadata": {},
     "output_type": "execute_result"
    }
   ],
   "source": [
    "type(y)"
   ]
  },
  {
   "cell_type": "code",
   "execution_count": 17,
   "id": "bed28338",
   "metadata": {},
   "outputs": [
    {
     "name": "stdout",
     "output_type": "stream",
     "text": [
      "['apple', 'banana', 'cherry']\n"
     ]
    }
   ],
   "source": [
    "print(y)"
   ]
  },
  {
   "cell_type": "code",
   "execution_count": 18,
   "id": "36f69fb5",
   "metadata": {},
   "outputs": [],
   "source": [
    "y[1]=\"watermelon\""
   ]
  },
  {
   "cell_type": "code",
   "execution_count": 19,
   "id": "e91f5733",
   "metadata": {},
   "outputs": [
    {
     "name": "stdout",
     "output_type": "stream",
     "text": [
      "['apple', 'watermelon', 'cherry']\n"
     ]
    }
   ],
   "source": [
    "print(y)"
   ]
  },
  {
   "cell_type": "code",
   "execution_count": 20,
   "id": "8e3c25f6",
   "metadata": {},
   "outputs": [],
   "source": [
    "x=tuple(y)"
   ]
  },
  {
   "cell_type": "code",
   "execution_count": 21,
   "id": "f7d60e52",
   "metadata": {},
   "outputs": [
    {
     "data": {
      "text/plain": [
       "tuple"
      ]
     },
     "execution_count": 21,
     "metadata": {},
     "output_type": "execute_result"
    }
   ],
   "source": [
    "type(x)"
   ]
  },
  {
   "cell_type": "code",
   "execution_count": 22,
   "id": "81af99c7",
   "metadata": {},
   "outputs": [
    {
     "name": "stdout",
     "output_type": "stream",
     "text": [
      "('apple', 'watermelon', 'cherry')\n"
     ]
    }
   ],
   "source": [
    "print(x)"
   ]
  },
  {
   "cell_type": "markdown",
   "id": "01afdd48",
   "metadata": {},
   "source": [
    "## When we assign some valies in tuple ,it will be crerated the is also called packing or TUPLE."
   ]
  },
  {
   "cell_type": "code",
   "execution_count": 24,
   "id": "abf81507",
   "metadata": {},
   "outputs": [
    {
     "name": "stdout",
     "output_type": "stream",
     "text": [
      "('apple', 'banana', 'cherry')\n"
     ]
    }
   ],
   "source": [
    "fruits=(\"apple\",\"banana\",\"cherry\")\n",
    "print(fruits)"
   ]
  },
  {
   "cell_type": "markdown",
   "id": "1aa229d8",
   "metadata": {},
   "source": [
    "## in python we can unpack this=(\"apple\",\"banana\",\"cherry\")\n",
    "## We can extract the packed values ,this is called unpacking."
   ]
  },
  {
   "cell_type": "code",
   "execution_count": 25,
   "id": "0671013f",
   "metadata": {},
   "outputs": [],
   "source": [
    "fruits=(\"apple\",\"banana\",\"cherry\")\n",
    "(green, yellow, red)=fruits"
   ]
  },
  {
   "cell_type": "code",
   "execution_count": 26,
   "id": "286cba29",
   "metadata": {},
   "outputs": [
    {
     "name": "stdout",
     "output_type": "stream",
     "text": [
      "apple\n"
     ]
    }
   ],
   "source": [
    "print(green)"
   ]
  },
  {
   "cell_type": "code",
   "execution_count": 27,
   "id": "d16ecfba",
   "metadata": {},
   "outputs": [
    {
     "name": "stdout",
     "output_type": "stream",
     "text": [
      "banana\n"
     ]
    }
   ],
   "source": [
    "print(yellow)"
   ]
  },
  {
   "cell_type": "code",
   "execution_count": 28,
   "id": "16ef00e1",
   "metadata": {},
   "outputs": [
    {
     "name": "stdout",
     "output_type": "stream",
     "text": [
      "cherry\n"
     ]
    }
   ],
   "source": [
    "print(red)"
   ]
  },
  {
   "cell_type": "markdown",
   "id": "68d092ec",
   "metadata": {},
   "source": [
    "## The above methodes can be used in tuples."
   ]
  },
  {
   "cell_type": "code",
   "execution_count": 31,
   "id": "7ba96f34",
   "metadata": {},
   "outputs": [
    {
     "data": {
      "text/plain": [
       "<function tuple.count(value, /)>"
      ]
     },
     "execution_count": 31,
     "metadata": {},
     "output_type": "execute_result"
    }
   ],
   "source": [
    "fruits.count"
   ]
  },
  {
   "cell_type": "code",
   "execution_count": 38,
   "id": "bc296f60",
   "metadata": {},
   "outputs": [],
   "source": [
    "num=(1,2,1,3,1,4,2,5)"
   ]
  },
  {
   "cell_type": "code",
   "execution_count": 33,
   "id": "eeba1562",
   "metadata": {},
   "outputs": [
    {
     "data": {
      "text/plain": [
       "3"
      ]
     },
     "execution_count": 33,
     "metadata": {},
     "output_type": "execute_result"
    }
   ],
   "source": [
    "num.count(1)"
   ]
  },
  {
   "cell_type": "code",
   "execution_count": 40,
   "id": "636c2d44",
   "metadata": {},
   "outputs": [
    {
     "data": {
      "text/plain": [
       "2"
      ]
     },
     "execution_count": 40,
     "metadata": {},
     "output_type": "execute_result"
    }
   ],
   "source": [
    "num.count(2)"
   ]
  },
  {
   "cell_type": "code",
   "execution_count": 34,
   "id": "b489b438",
   "metadata": {},
   "outputs": [
    {
     "data": {
      "text/plain": [
       "3"
      ]
     },
     "execution_count": 34,
     "metadata": {},
     "output_type": "execute_result"
    }
   ],
   "source": [
    "num.index(3)"
   ]
  },
  {
   "cell_type": "code",
   "execution_count": 35,
   "id": "c713afa9",
   "metadata": {},
   "outputs": [
    {
     "data": {
      "text/plain": [
       "0"
      ]
     },
     "execution_count": 35,
     "metadata": {},
     "output_type": "execute_result"
    }
   ],
   "source": [
    "num.index(1)"
   ]
  },
  {
   "cell_type": "code",
   "execution_count": 37,
   "id": "8aee2145",
   "metadata": {},
   "outputs": [
    {
     "data": {
      "text/plain": [
       "5"
      ]
     },
     "execution_count": 37,
     "metadata": {},
     "output_type": "execute_result"
    }
   ],
   "source": [
    "num.index(4)"
   ]
  },
  {
   "cell_type": "markdown",
   "id": "bdac501b",
   "metadata": {},
   "source": [
    "# SETS -- Sets are unorderd, unindexed, unchangeable and it will not allow duplicate. A set is a collection which is both unorderd and unindexed \n",
    "## Sets are written with curly brackets."
   ]
  },
  {
   "cell_type": "code",
   "execution_count": 41,
   "id": "e2637a24",
   "metadata": {},
   "outputs": [
    {
     "name": "stdout",
     "output_type": "stream",
     "text": [
      "{'apple', 'banana', 'cherry'}\n"
     ]
    }
   ],
   "source": [
    "fruits={\"apple\",\"banana\",\"cherry\"}\n",
    "print(fruits)"
   ]
  },
  {
   "cell_type": "markdown",
   "id": "a07067bf",
   "metadata": {},
   "source": [
    "## Just like the others here also we can find the length od a set and we can find the type and same as others it have constructor."
   ]
  },
  {
   "cell_type": "code",
   "execution_count": 42,
   "id": "ab04fd7a",
   "metadata": {},
   "outputs": [
    {
     "data": {
      "text/plain": [
       "3"
      ]
     },
     "execution_count": 42,
     "metadata": {},
     "output_type": "execute_result"
    }
   ],
   "source": [
    "len(fruits)"
   ]
  },
  {
   "cell_type": "code",
   "execution_count": 43,
   "id": "b325526f",
   "metadata": {},
   "outputs": [
    {
     "data": {
      "text/plain": [
       "set"
      ]
     },
     "execution_count": 43,
     "metadata": {},
     "output_type": "execute_result"
    }
   ],
   "source": [
    "type(fruits)"
   ]
  },
  {
   "cell_type": "markdown",
   "id": "93ac69f8",
   "metadata": {},
   "source": [
    "## Because of Unidexed we can't call like list or tuple. \n",
    "## We need to loop it, by using for"
   ]
  },
  {
   "cell_type": "code",
   "execution_count": 46,
   "id": "9af6418c",
   "metadata": {},
   "outputs": [
    {
     "name": "stdout",
     "output_type": "stream",
     "text": [
      "apple\n",
      "banana\n",
      "cherry\n"
     ]
    }
   ],
   "source": [
    "fruits={\"apple\",\"banana\",\"cherry\"}\n",
    "for x in fruits:\n",
    "    print(x)"
   ]
  },
  {
   "cell_type": "markdown",
   "id": "f95ca38f",
   "metadata": {},
   "source": [
    "# add() "
   ]
  },
  {
   "cell_type": "code",
   "execution_count": 50,
   "id": "489683bc",
   "metadata": {},
   "outputs": [
    {
     "name": "stdout",
     "output_type": "stream",
     "text": [
      "{'apple', 'banana', 'guava', 'cherry'}\n"
     ]
    }
   ],
   "source": [
    "fruits={\"apple\",\"banana\",\"cherry\"}\n",
    "fruits.add(\"guava\")\n",
    "print(fruits)"
   ]
  },
  {
   "cell_type": "markdown",
   "id": "7301b443",
   "metadata": {},
   "source": [
    "## Update()--> We can merge list or tuple set using this function."
   ]
  },
  {
   "cell_type": "code",
   "execution_count": 51,
   "id": "9ea9e02d",
   "metadata": {},
   "outputs": [
    {
     "name": "stdout",
     "output_type": "stream",
     "text": [
      "{'apple', 'cherry', 'banana', 'kiwi', 'orange'}\n"
     ]
    }
   ],
   "source": [
    "fruits={\"apple\",\"banana\",\"cherry\"}\n",
    "mylist=[\"kiwi\",\"orange\"]\n",
    "fruits.update(mylist)\n",
    "print(fruits)"
   ]
  },
  {
   "cell_type": "markdown",
   "id": "a10647b8",
   "metadata": {},
   "source": [
    "## Remove an item ina set, sue the remove(), or the discard() method."
   ]
  },
  {
   "cell_type": "code",
   "execution_count": 55,
   "id": "fe507ece",
   "metadata": {},
   "outputs": [
    {
     "name": "stdout",
     "output_type": "stream",
     "text": [
      "{'apple', 'cherry'}\n"
     ]
    }
   ],
   "source": [
    "fruits={\"apple\",\"banana\",\"cherry\"}\n",
    "fruits.remove(\"banana\")\n",
    "print(fruits)"
   ]
  },
  {
   "cell_type": "code",
   "execution_count": 57,
   "id": "5bb43c9c",
   "metadata": {},
   "outputs": [
    {
     "name": "stdout",
     "output_type": "stream",
     "text": [
      "{'apple', 'cherry'}\n"
     ]
    }
   ],
   "source": [
    "fruits={\"apple\",\"banana\",\"cherry\"}\n",
    "fruits.discard(\"banana\")\n",
    "print(fruits)"
   ]
  },
  {
   "cell_type": "markdown",
   "id": "8b9a9723",
   "metadata": {},
   "source": [
    "## We can use pop(), del(), clear()"
   ]
  },
  {
   "cell_type": "code",
   "execution_count": 59,
   "id": "ef871e67",
   "metadata": {},
   "outputs": [
    {
     "name": "stdout",
     "output_type": "stream",
     "text": [
      "set()\n"
     ]
    }
   ],
   "source": [
    "fruits={\"apple\",\"banana\",\"cherry\"}\n",
    "fruits.clear()\n",
    "print(fruits)"
   ]
  },
  {
   "cell_type": "code",
   "execution_count": 60,
   "id": "c9b41cc9",
   "metadata": {},
   "outputs": [
    {
     "ename": "NameError",
     "evalue": "name 'fruits' is not defined",
     "output_type": "error",
     "traceback": [
      "\u001b[1;31m---------------------------------------------------------------------------\u001b[0m",
      "\u001b[1;31mNameError\u001b[0m                                 Traceback (most recent call last)",
      "Cell \u001b[1;32mIn[60], line 3\u001b[0m\n\u001b[0;32m      1\u001b[0m fruits\u001b[38;5;241m=\u001b[39m{\u001b[38;5;124m\"\u001b[39m\u001b[38;5;124mapple\u001b[39m\u001b[38;5;124m\"\u001b[39m,\u001b[38;5;124m\"\u001b[39m\u001b[38;5;124mbanana\u001b[39m\u001b[38;5;124m\"\u001b[39m,\u001b[38;5;124m\"\u001b[39m\u001b[38;5;124mcherry\u001b[39m\u001b[38;5;124m\"\u001b[39m}\n\u001b[0;32m      2\u001b[0m \u001b[38;5;28;01mdel\u001b[39;00m fruits\n\u001b[1;32m----> 3\u001b[0m \u001b[38;5;28mprint\u001b[39m(fruits)\n",
      "\u001b[1;31mNameError\u001b[0m: name 'fruits' is not defined"
     ]
    }
   ],
   "source": [
    "fruits={\"apple\",\"banana\",\"cherry\"}\n",
    "del fruits\n",
    "print(fruits)"
   ]
  },
  {
   "cell_type": "code",
   "execution_count": 61,
   "id": "b7cc0ba8",
   "metadata": {},
   "outputs": [
    {
     "name": "stdout",
     "output_type": "stream",
     "text": [
      "apple\n"
     ]
    }
   ],
   "source": [
    "fruits={\"apple\",\"banana\",\"cherry\"}\n",
    "x=fruits.pop()\n",
    "print(x)"
   ]
  },
  {
   "cell_type": "code",
   "execution_count": 62,
   "id": "de661de5",
   "metadata": {},
   "outputs": [
    {
     "name": "stdout",
     "output_type": "stream",
     "text": [
      "{'banana', 'cherry'}\n"
     ]
    }
   ],
   "source": [
    "print(fruits)"
   ]
  },
  {
   "cell_type": "markdown",
   "id": "5bca3a4e",
   "metadata": {},
   "source": [
    "## in math we all studied union, intersection and all thea will implement here, for joining sets."
   ]
  },
  {
   "cell_type": "markdown",
   "id": "d836d2d8",
   "metadata": {},
   "source": [
    "## Union() function\n",
    "### The unoin() method returns a new set with all items from both sets."
   ]
  },
  {
   "cell_type": "code",
   "execution_count": 65,
   "id": "0cc40f83",
   "metadata": {},
   "outputs": [
    {
     "name": "stdout",
     "output_type": "stream",
     "text": [
      "{1, 2, 3, 'b', 'c', 'a'}\n"
     ]
    }
   ],
   "source": [
    "set1={\"a\",\"b\",\"c\"}\n",
    "set2={1,2,3}\n",
    "set3=set1.union(set2)\n",
    "print(set3)"
   ]
  },
  {
   "cell_type": "markdown",
   "id": "59bd8fa6",
   "metadata": {},
   "source": [
    "## Update()"
   ]
  },
  {
   "cell_type": "code",
   "execution_count": 67,
   "id": "12c66313",
   "metadata": {},
   "outputs": [
    {
     "name": "stdout",
     "output_type": "stream",
     "text": [
      "{1, 2, 3, 'b', 'c', 'a'}\n"
     ]
    }
   ],
   "source": [
    "set1={\"a\",\"b\",\"c\"}\n",
    "set2={1,2,3}\n",
    "set1.update(set2)\n",
    "print(set1)"
   ]
  },
  {
   "cell_type": "markdown",
   "id": "14c24041",
   "metadata": {},
   "source": [
    "## Both union() and update() will exclude and duplicate items."
   ]
  },
  {
   "cell_type": "markdown",
   "id": "1dbe1dda",
   "metadata": {},
   "source": [
    "## The intersection_update() method will keep only the items that are present in both sets."
   ]
  },
  {
   "cell_type": "code",
   "execution_count": 68,
   "id": "9b6e99d3",
   "metadata": {},
   "outputs": [
    {
     "name": "stdout",
     "output_type": "stream",
     "text": [
      "{'apple'}\n"
     ]
    }
   ],
   "source": [
    "x={\"apple\",\"banana\",\"cherry\"}\n",
    "y={\"google\",\"microsoft\",\"apple\"}\n",
    "x.intersection_update(y)\n",
    "print(x)"
   ]
  },
  {
   "cell_type": "markdown",
   "id": "55dceb95",
   "metadata": {},
   "source": [
    "## The inyersection() method will return a new set, thet only contains the items that are present in both sets."
   ]
  },
  {
   "cell_type": "code",
   "execution_count": 69,
   "id": "cd4e35ef",
   "metadata": {},
   "outputs": [
    {
     "name": "stdout",
     "output_type": "stream",
     "text": [
      "{'apple'}\n"
     ]
    }
   ],
   "source": [
    "x={\"apple\",\"banana\",\"cherry\"}\n",
    "y={\"google\",\"microsoft\",\"apple\"}\n",
    "z=x.intersection(y)\n",
    "print(z)"
   ]
  },
  {
   "cell_type": "markdown",
   "id": "a22ef3ee",
   "metadata": {},
   "source": [
    "## The symmetric_difference_update() method will keep only the elements that are NOT present in both sets."
   ]
  },
  {
   "cell_type": "code",
   "execution_count": 71,
   "id": "689ec3df",
   "metadata": {},
   "outputs": [
    {
     "name": "stdout",
     "output_type": "stream",
     "text": [
      "{'cherry', 'banana', 'microsoft', 'google'}\n"
     ]
    }
   ],
   "source": [
    "x={\"apple\",\"banana\",\"cherry\"}\n",
    "y={\"google\",\"microsoft\",\"apple\"}\n",
    "x.symmetric_difference_update(y)\n",
    "print(x)"
   ]
  },
  {
   "cell_type": "markdown",
   "id": "78393512",
   "metadata": {},
   "source": [
    "## The symmetric_difference_update() method return a new set, that contains only the elements that are NOT present in both sets. PPT--111"
   ]
  },
  {
   "cell_type": "code",
   "execution_count": 75,
   "id": "f5315384",
   "metadata": {},
   "outputs": [
    {
     "name": "stdout",
     "output_type": "stream",
     "text": [
      "{'banana', 'cherry', 'microsoft', 'google'}\n"
     ]
    }
   ],
   "source": [
    "x={\"apple\",\"banana\",\"cherry\"}\n",
    "y={\"google\",\"microsoft\",\"apple\"}\n",
    "z=x.symmetric_difference(y)\n",
    "print(z)"
   ]
  },
  {
   "cell_type": "code",
   "execution_count": null,
   "id": "a51e0945",
   "metadata": {},
   "outputs": [],
   "source": []
  }
 ],
 "metadata": {
  "kernelspec": {
   "display_name": "Python 3 (ipykernel)",
   "language": "python",
   "name": "python3"
  },
  "language_info": {
   "codemirror_mode": {
    "name": "ipython",
    "version": 3
   },
   "file_extension": ".py",
   "mimetype": "text/x-python",
   "name": "python",
   "nbconvert_exporter": "python",
   "pygments_lexer": "ipython3",
   "version": "3.11.5"
  }
 },
 "nbformat": 4,
 "nbformat_minor": 5
}
