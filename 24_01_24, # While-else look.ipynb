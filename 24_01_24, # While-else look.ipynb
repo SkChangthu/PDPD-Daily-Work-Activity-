{
 "cells": [
  {
   "cell_type": "markdown",
   "id": "8f8e9596",
   "metadata": {},
   "source": [
    "# While-else look"
   ]
  },
  {
   "cell_type": "code",
   "execution_count": 5,
   "id": "d791542b",
   "metadata": {},
   "outputs": [
    {
     "name": "stdout",
     "output_type": "stream",
     "text": [
      "5\n",
      "7\n",
      "9\n",
      "11\n",
      "13\n",
      "15\n",
      "17\n",
      "19\n",
      "No Break\n",
      "\n"
     ]
    }
   ],
   "source": [
    "j=3\n",
    "while j<19:\n",
    "    j+=2\n",
    "    print(j)\n",
    "else:\n",
    "    print(\"No Break\\n\")"
   ]
  },
  {
   "cell_type": "code",
   "execution_count": 9,
   "id": "12b0c0e4",
   "metadata": {},
   "outputs": [
    {
     "name": "stdout",
     "output_type": "stream",
     "text": [
      "5\n",
      "7\n",
      "9\n",
      "11\n",
      "13\n",
      "15\n",
      "17\n"
     ]
    }
   ],
   "source": [
    "j=3\n",
    "while j<19:\n",
    "    j+=2\n",
    "    print(j)\n",
    "    if j>15:\n",
    "        break\n",
    "else:\n",
    "    print(\"No Break\\n\")"
   ]
  },
  {
   "cell_type": "markdown",
   "id": "8bc5797d",
   "metadata": {},
   "source": [
    "# Q--- Check a year lipyear or not."
   ]
  },
  {
   "cell_type": "markdown",
   "id": "d3acec6e",
   "metadata": {},
   "source": [
    "# Q-- Check a number possitive, negative, or neutral by using nested if."
   ]
  }
 ],
 "metadata": {
  "kernelspec": {
   "display_name": "Python 3 (ipykernel)",
   "language": "python",
   "name": "python3"
  },
  "language_info": {
   "codemirror_mode": {
    "name": "ipython",
    "version": 3
   },
   "file_extension": ".py",
   "mimetype": "text/x-python",
   "name": "python",
   "nbconvert_exporter": "python",
   "pygments_lexer": "ipython3",
   "version": "3.11.5"
  }
 },
 "nbformat": 4,
 "nbformat_minor": 5
}
