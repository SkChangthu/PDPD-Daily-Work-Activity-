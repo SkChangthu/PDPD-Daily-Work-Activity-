{
 "cells": [
  {
   "cell_type": "markdown",
   "id": "6e5a5e73",
   "metadata": {},
   "source": [
    "# PYTHON FUNCTION"
   ]
  },
  {
   "cell_type": "code",
   "execution_count": 1,
   "id": "f5240db6",
   "metadata": {},
   "outputs": [],
   "source": [
    "def add(a,b):\n",
    "    print(a+b)\n",
    "    print(\"function is working\")"
   ]
  },
  {
   "cell_type": "code",
   "execution_count": 2,
   "id": "ce52a0ff",
   "metadata": {},
   "outputs": [
    {
     "name": "stdout",
     "output_type": "stream",
     "text": [
      "22\n",
      "function is working\n"
     ]
    }
   ],
   "source": [
    "add(19,3)"
   ]
  },
  {
   "cell_type": "code",
   "execution_count": 6,
   "id": "164df023",
   "metadata": {},
   "outputs": [],
   "source": [
    "def chintu(sk,kh):\n",
    "    print(sk+kh)\n",
    "    print(\"function is working\")"
   ]
  },
  {
   "cell_type": "code",
   "execution_count": 9,
   "id": "860115f6",
   "metadata": {},
   "outputs": [
    {
     "name": "stdout",
     "output_type": "stream",
     "text": [
      "Sahil Sahin\n",
      "function is working\n"
     ]
    }
   ],
   "source": [
    "chintu(\"Sahil \",\"Sahin\")"
   ]
  },
  {
   "cell_type": "code",
   "execution_count": 10,
   "id": "ebab05b0",
   "metadata": {},
   "outputs": [
    {
     "name": "stdout",
     "output_type": "stream",
     "text": [
      "Variable   Type        Data/Info\n",
      "--------------------------------\n",
      "add        function    <function add at 0x000001E1193FEC00>\n",
      "chintu     function    <function chintu at 0x000001E1193FEA20>\n"
     ]
    }
   ],
   "source": [
    "%whos"
   ]
  },
  {
   "cell_type": "markdown",
   "id": "9c28f019",
   "metadata": {},
   "source": [
    "# Syntex"
   ]
  },
  {
   "cell_type": "code",
   "execution_count": 11,
   "id": "ffc16ddc",
   "metadata": {},
   "outputs": [],
   "source": [
    "def hello():\n",
    "    print(\"Welcome to IPCS\")"
   ]
  },
  {
   "cell_type": "code",
   "execution_count": 12,
   "id": "62a7658f",
   "metadata": {},
   "outputs": [
    {
     "name": "stdout",
     "output_type": "stream",
     "text": [
      "Welcome to IPCS\n"
     ]
    }
   ],
   "source": [
    "hello()"
   ]
  },
  {
   "cell_type": "code",
   "execution_count": 13,
   "id": "fbbd2431",
   "metadata": {},
   "outputs": [
    {
     "data": {
      "text/plain": [
       "function"
      ]
     },
     "execution_count": 13,
     "metadata": {},
     "output_type": "execute_result"
    }
   ],
   "source": [
    "type(hello)"
   ]
  },
  {
   "cell_type": "markdown",
   "id": "21382205",
   "metadata": {},
   "source": [
    "# Calling a functrion "
   ]
  },
  {
   "cell_type": "code",
   "execution_count": 17,
   "id": "8542156c",
   "metadata": {},
   "outputs": [
    {
     "name": "stdout",
     "output_type": "stream",
     "text": [
      "Welcome to IPCS\n"
     ]
    }
   ],
   "source": [
    "# A simple pthohn function \n",
    "def hello():\n",
    "    print(\"Welcome to IPCS\")\n",
    "# Driver code to call a function \n",
    "hello()\n",
    "\n",
    "#output \n",
    "#Welcome to IPCS"
   ]
  },
  {
   "cell_type": "markdown",
   "id": "4c2c51be",
   "metadata": {},
   "source": [
    "# Arguments od a function "
   ]
  },
  {
   "cell_type": "code",
   "execution_count": 19,
   "id": "100b03e1",
   "metadata": {},
   "outputs": [
    {
     "name": "stdout",
     "output_type": "stream",
     "text": [
      "give a number10\n",
      "even\n"
     ]
    }
   ],
   "source": [
    "x=int(input(\"give a number\"))\n",
    "if (x%2==0):\n",
    "    print(\"even\")\n",
    "else:\n",
    "    print(\"odd\")"
   ]
  },
  {
   "cell_type": "code",
   "execution_count": 20,
   "id": "93f43adc",
   "metadata": {},
   "outputs": [],
   "source": [
    "def skc(x):\n",
    "    if (x%2==0):\n",
    "        print(\"even\")\n",
    "    else:\n",
    "        print(\"odd\")"
   ]
  },
  {
   "cell_type": "code",
   "execution_count": 21,
   "id": "991eef7d",
   "metadata": {},
   "outputs": [
    {
     "name": "stdout",
     "output_type": "stream",
     "text": [
      "even\n"
     ]
    }
   ],
   "source": [
    "skc(18)"
   ]
  },
  {
   "cell_type": "markdown",
   "id": "c664eb1e",
   "metadata": {},
   "source": [
    "# Types of Arguments"
   ]
  },
  {
   "cell_type": "code",
   "execution_count": 22,
   "id": "fb7bca3a",
   "metadata": {},
   "outputs": [],
   "source": [
    "def myfun(x,y=50):\n",
    "    print(\"x:\",x)\n",
    "    print(\"y:\",y)"
   ]
  },
  {
   "cell_type": "code",
   "execution_count": 23,
   "id": "53e5b4c7",
   "metadata": {},
   "outputs": [
    {
     "name": "stdout",
     "output_type": "stream",
     "text": [
      "x: 10\n",
      "y: 50\n"
     ]
    }
   ],
   "source": [
    "myfun(10)"
   ]
  },
  {
   "cell_type": "code",
   "execution_count": 24,
   "id": "b7901659",
   "metadata": {},
   "outputs": [
    {
     "name": "stdout",
     "output_type": "stream",
     "text": [
      "x: 20\n",
      "y: 30\n"
     ]
    }
   ],
   "source": [
    "myfun(20,30)"
   ]
  },
  {
   "cell_type": "code",
   "execution_count": 25,
   "id": "8c3cc9ec",
   "metadata": {},
   "outputs": [
    {
     "name": "stdout",
     "output_type": "stream",
     "text": [
      "x: 30\n",
      "y: 20\n"
     ]
    }
   ],
   "source": [
    "myfun(y=20, x=30)"
   ]
  },
  {
   "cell_type": "code",
   "execution_count": 31,
   "id": "128daf3c",
   "metadata": {},
   "outputs": [],
   "source": [
    "def student(firstname, lastname):\n",
    "    print(firstname, lastname)"
   ]
  },
  {
   "cell_type": "code",
   "execution_count": 33,
   "id": "0449c56b",
   "metadata": {},
   "outputs": [
    {
     "name": "stdout",
     "output_type": "stream",
     "text": [
      "Sk Sahil\n"
     ]
    }
   ],
   "source": [
    "student(\"Sk\", \"Sahil\")"
   ]
  },
  {
   "cell_type": "markdown",
   "id": "1c9ecfc5",
   "metadata": {},
   "source": [
    "# Arbitrary Arguments, *args"
   ]
  },
  {
   "cell_type": "code",
   "execution_count": 37,
   "id": "89589990",
   "metadata": {},
   "outputs": [],
   "source": [
    "def my_function(*kids):\n",
    "    print(\"The youngest shid is \"+kids[2])"
   ]
  },
  {
   "cell_type": "code",
   "execution_count": 38,
   "id": "1db1a67e",
   "metadata": {},
   "outputs": [
    {
     "name": "stdout",
     "output_type": "stream",
     "text": [
      "The youngest shid is Rabbani\n"
     ]
    }
   ],
   "source": [
    "my_function(\"Rafan\", \"Rehan\",\"Rabbani\", \"Rahamat\")"
   ]
  },
  {
   "cell_type": "code",
   "execution_count": 39,
   "id": "4f5d3aef",
   "metadata": {},
   "outputs": [],
   "source": [
    "def my_function(*kids):\n",
    "    print(\"The youngest shid is \"+kids[4])"
   ]
  },
  {
   "cell_type": "code",
   "execution_count": 40,
   "id": "24b5208c",
   "metadata": {},
   "outputs": [
    {
     "ename": "IndexError",
     "evalue": "tuple index out of range",
     "output_type": "error",
     "traceback": [
      "\u001b[1;31m---------------------------------------------------------------------------\u001b[0m",
      "\u001b[1;31mIndexError\u001b[0m                                Traceback (most recent call last)",
      "Cell \u001b[1;32mIn[40], line 1\u001b[0m\n\u001b[1;32m----> 1\u001b[0m my_function(\u001b[38;5;124m\"\u001b[39m\u001b[38;5;124mRafan\u001b[39m\u001b[38;5;124m\"\u001b[39m, \u001b[38;5;124m\"\u001b[39m\u001b[38;5;124mRehan\u001b[39m\u001b[38;5;124m\"\u001b[39m,\u001b[38;5;124m\"\u001b[39m\u001b[38;5;124mRabbani\u001b[39m\u001b[38;5;124m\"\u001b[39m, \u001b[38;5;124m\"\u001b[39m\u001b[38;5;124mRahamat\u001b[39m\u001b[38;5;124m\"\u001b[39m)\n",
      "Cell \u001b[1;32mIn[39], line 2\u001b[0m, in \u001b[0;36mmy_function\u001b[1;34m(*kids)\u001b[0m\n\u001b[0;32m      1\u001b[0m \u001b[38;5;28;01mdef\u001b[39;00m \u001b[38;5;21mmy_function\u001b[39m(\u001b[38;5;241m*\u001b[39mkids):\n\u001b[1;32m----> 2\u001b[0m     \u001b[38;5;28mprint\u001b[39m(\u001b[38;5;124m\"\u001b[39m\u001b[38;5;124mThe youngest shid is \u001b[39m\u001b[38;5;124m\"\u001b[39m\u001b[38;5;241m+\u001b[39mkids[\u001b[38;5;241m4\u001b[39m])\n",
      "\u001b[1;31mIndexError\u001b[0m: tuple index out of range"
     ]
    }
   ],
   "source": [
    "my_function(\"Rafan\", \"Rehan\",\"Rabbani\", \"Rahamat\")"
   ]
  },
  {
   "cell_type": "code",
   "execution_count": 41,
   "id": "6f776857",
   "metadata": {},
   "outputs": [
    {
     "name": "stdout",
     "output_type": "stream",
     "text": [
      "Hello\n",
      "Welcome\n",
      "to\n",
      "IPCS\n"
     ]
    }
   ],
   "source": [
    "def myfunction(*argv):\n",
    "    for x in argv:\n",
    "        print(x)\n",
    "myfunction(\"Hello\",\"Welcome\", \"to\",\"IPCS\")"
   ]
  },
  {
   "cell_type": "markdown",
   "id": "2c7422c4",
   "metadata": {},
   "source": [
    "# Arbitrary keyworkd arguments, **kwargs"
   ]
  },
  {
   "cell_type": "code",
   "execution_count": 51,
   "id": "a29053b8",
   "metadata": {},
   "outputs": [],
   "source": [
    "#eg 1.\n",
    "def my_function(**student):\n",
    "    print(\"His first name is \"+student[\"fname\"])\n",
    "        "
   ]
  },
  {
   "cell_type": "code",
   "execution_count": 53,
   "id": "eafed253",
   "metadata": {},
   "outputs": [
    {
     "name": "stdout",
     "output_type": "stream",
     "text": [
      "His first name is vignesh\n"
     ]
    }
   ],
   "source": [
    "my_function(fname=\"vignesh\", Lname=\"S\")"
   ]
  },
  {
   "cell_type": "code",
   "execution_count": 59,
   "id": "19031571",
   "metadata": {},
   "outputs": [],
   "source": [
    "#eg 2.\n",
    "def myFun(**kwargs):\n",
    "    for key,value in kwargs.items():\n",
    "        print(key, value)"
   ]
  },
  {
   "cell_type": "code",
   "execution_count": 60,
   "id": "9c9fcc90",
   "metadata": {},
   "outputs": [
    {
     "name": "stdout",
     "output_type": "stream",
     "text": [
      "first welcome\n",
      "mid for\n",
      "last course\n"
     ]
    }
   ],
   "source": [
    "myFun(first='welcome',mid='for', last='course')"
   ]
  },
  {
   "cell_type": "code",
   "execution_count": 61,
   "id": "3f15ea12",
   "metadata": {},
   "outputs": [],
   "source": [
    "dct={\"abc\":23, \"skc\":19,\"kh\":25}"
   ]
  },
  {
   "cell_type": "code",
   "execution_count": 62,
   "id": "23059614",
   "metadata": {},
   "outputs": [
    {
     "data": {
      "text/plain": [
       "dict_items([('abc', 23), ('skc', 19), ('kh', 25)])"
      ]
     },
     "execution_count": 62,
     "metadata": {},
     "output_type": "execute_result"
    }
   ],
   "source": [
    "dct.items()"
   ]
  },
  {
   "cell_type": "markdown",
   "id": "d1b06045",
   "metadata": {},
   "source": [
    "# Default Parameter value\n"
   ]
  },
  {
   "cell_type": "code",
   "execution_count": 68,
   "id": "55c9f08d",
   "metadata": {},
   "outputs": [],
   "source": [
    "#eg:\n",
    "def my_function(country=\"Norway\"):\n",
    "    print(\"i am from \" + country)"
   ]
  },
  {
   "cell_type": "code",
   "execution_count": 69,
   "id": "23dd4636",
   "metadata": {},
   "outputs": [
    {
     "name": "stdout",
     "output_type": "stream",
     "text": [
      "i am from Sweden\n"
     ]
    }
   ],
   "source": [
    "my_function(\"Sweden\")"
   ]
  },
  {
   "cell_type": "code",
   "execution_count": 70,
   "id": "dbfa2143",
   "metadata": {},
   "outputs": [
    {
     "name": "stdout",
     "output_type": "stream",
     "text": [
      "i am from India\n"
     ]
    }
   ],
   "source": [
    "my_function(\"India\")"
   ]
  },
  {
   "cell_type": "code",
   "execution_count": 71,
   "id": "6044222d",
   "metadata": {},
   "outputs": [
    {
     "name": "stdout",
     "output_type": "stream",
     "text": [
      "i am from Norway\n"
     ]
    }
   ],
   "source": [
    "my_function()"
   ]
  },
  {
   "cell_type": "code",
   "execution_count": 72,
   "id": "f63be87f",
   "metadata": {},
   "outputs": [
    {
     "name": "stdout",
     "output_type": "stream",
     "text": [
      "i am from Brazil\n"
     ]
    }
   ],
   "source": [
    "my_function(\"Brazil\")"
   ]
  },
  {
   "cell_type": "markdown",
   "id": "124ad268",
   "metadata": {},
   "source": [
    "# Passing a List as an Argument"
   ]
  },
  {
   "cell_type": "code",
   "execution_count": 73,
   "id": "5efc08e7",
   "metadata": {},
   "outputs": [],
   "source": [
    "def skc(xyz):\n",
    "    for x in xyz:\n",
    "        print(x)"
   ]
  },
  {
   "cell_type": "code",
   "execution_count": 74,
   "id": "1c1b891d",
   "metadata": {},
   "outputs": [
    {
     "name": "stdout",
     "output_type": "stream",
     "text": [
      "apple\n",
      "banana\n",
      "cherry\n"
     ]
    }
   ],
   "source": [
    "fruits=[\"apple\",\"banana\",\"cherry\"]\n",
    "skc(fruits)"
   ]
  },
  {
   "cell_type": "markdown",
   "id": "9c13f4f6",
   "metadata": {},
   "source": [
    "# Return Values "
   ]
  },
  {
   "cell_type": "code",
   "execution_count": 75,
   "id": "5f3044a7",
   "metadata": {},
   "outputs": [],
   "source": [
    "def sqare_value(num):\n",
    "    return num**2"
   ]
  },
  {
   "cell_type": "code",
   "execution_count": 76,
   "id": "0b74d800",
   "metadata": {},
   "outputs": [
    {
     "data": {
      "text/plain": [
       "25"
      ]
     },
     "execution_count": 76,
     "metadata": {},
     "output_type": "execute_result"
    }
   ],
   "source": [
    "sqare_value(5)"
   ]
  },
  {
   "cell_type": "code",
   "execution_count": 77,
   "id": "6919ac10",
   "metadata": {},
   "outputs": [],
   "source": [
    "def cube(num):\n",
    "    return num**3"
   ]
  },
  {
   "cell_type": "code",
   "execution_count": 78,
   "id": "85c2f0fd",
   "metadata": {},
   "outputs": [
    {
     "data": {
      "text/plain": [
       "27"
      ]
     },
     "execution_count": 78,
     "metadata": {},
     "output_type": "execute_result"
    }
   ],
   "source": [
    "cube(3)"
   ]
  },
  {
   "cell_type": "code",
   "execution_count": null,
   "id": "b075280f",
   "metadata": {},
   "outputs": [],
   "source": [
    "# Is python function pass by referance or pass by value?"
   ]
  },
  {
   "cell_type": "code",
   "execution_count": 88,
   "id": "a3d423aa",
   "metadata": {},
   "outputs": [],
   "source": [
    "def skc(x):\n",
    "    x[0]=30\n",
    "    return x"
   ]
  },
  {
   "cell_type": "code",
   "execution_count": 89,
   "id": "bcde0dd8",
   "metadata": {},
   "outputs": [],
   "source": [
    "lst=[9,11,13,14,15]"
   ]
  },
  {
   "cell_type": "code",
   "execution_count": 90,
   "id": "9d2ddb26",
   "metadata": {},
   "outputs": [
    {
     "data": {
      "text/plain": [
       "[30, 11, 13, 14, 15]"
      ]
     },
     "execution_count": 90,
     "metadata": {},
     "output_type": "execute_result"
    }
   ],
   "source": [
    "skc(lst)"
   ]
  },
  {
   "cell_type": "markdown",
   "id": "4cbf3af5",
   "metadata": {},
   "source": [
    "# Function within function "
   ]
  },
  {
   "cell_type": "code",
   "execution_count": 96,
   "id": "f049b3a6",
   "metadata": {},
   "outputs": [],
   "source": [
    "def f1():\n",
    "    s='I love python'\n",
    "    def f2():\n",
    "        print(s)\n",
    "    f2()"
   ]
  },
  {
   "cell_type": "code",
   "execution_count": 97,
   "id": "6287e357",
   "metadata": {},
   "outputs": [
    {
     "ename": "NameError",
     "evalue": "name 'f2' is not defined",
     "output_type": "error",
     "traceback": [
      "\u001b[1;31m---------------------------------------------------------------------------\u001b[0m",
      "\u001b[1;31mNameError\u001b[0m                                 Traceback (most recent call last)",
      "Cell \u001b[1;32mIn[97], line 1\u001b[0m\n\u001b[1;32m----> 1\u001b[0m f2()\n",
      "\u001b[1;31mNameError\u001b[0m: name 'f2' is not defined"
     ]
    }
   ],
   "source": [
    "f2()"
   ]
  },
  {
   "cell_type": "code",
   "execution_count": 98,
   "id": "92c052be",
   "metadata": {},
   "outputs": [
    {
     "name": "stdout",
     "output_type": "stream",
     "text": [
      "I love python\n"
     ]
    }
   ],
   "source": [
    "f1()"
   ]
  },
  {
   "cell_type": "markdown",
   "id": "b2299246",
   "metadata": {},
   "source": [
    "# Python lambda"
   ]
  },
  {
   "cell_type": "code",
   "execution_count": 99,
   "id": "87a4b9af",
   "metadata": {},
   "outputs": [
    {
     "name": "stdout",
     "output_type": "stream",
     "text": [
      "<function <lambda> at 0x000001E11A245DA0>\n"
     ]
    }
   ],
   "source": [
    "#eg 1. \n",
    "\n",
    "string='hello python'\n",
    "print(lambda string:string)\n"
   ]
  },
  {
   "cell_type": "code",
   "execution_count": 100,
   "id": "cf0ca6b8",
   "metadata": {},
   "outputs": [
    {
     "data": {
      "text/plain": [
       "<function __main__.<lambda>(x)>"
      ]
     },
     "execution_count": 100,
     "metadata": {},
     "output_type": "execute_result"
    }
   ],
   "source": [
    "#eg 2. \n",
    "x=\"hello python\"\n",
    "(lambda x:print(x))"
   ]
  },
  {
   "cell_type": "code",
   "execution_count": 101,
   "id": "939e4c92",
   "metadata": {},
   "outputs": [
    {
     "name": "stdout",
     "output_type": "stream",
     "text": [
      "hello python\n"
     ]
    }
   ],
   "source": [
    "x=\"hello python\"\n",
    "(lambda x:print(x))(x)"
   ]
  },
  {
   "cell_type": "code",
   "execution_count": 104,
   "id": "5964496f",
   "metadata": {},
   "outputs": [],
   "source": [
    "def cube(y):\n",
    "    return y*y*y"
   ]
  },
  {
   "cell_type": "code",
   "execution_count": 105,
   "id": "7adb4ded",
   "metadata": {},
   "outputs": [
    {
     "name": "stdout",
     "output_type": "stream",
     "text": [
      "125\n"
     ]
    }
   ],
   "source": [
    "print(cube(5))"
   ]
  },
  {
   "cell_type": "code",
   "execution_count": 106,
   "id": "110e4f28",
   "metadata": {},
   "outputs": [],
   "source": [
    "g=lambda x:x*x*x"
   ]
  },
  {
   "cell_type": "code",
   "execution_count": 107,
   "id": "1754d969",
   "metadata": {},
   "outputs": [
    {
     "data": {
      "text/plain": [
       "343"
      ]
     },
     "execution_count": 107,
     "metadata": {},
     "output_type": "execute_result"
    }
   ],
   "source": [
    "g(7)"
   ]
  },
  {
   "cell_type": "markdown",
   "id": "1f75c7fa",
   "metadata": {},
   "source": [
    "# eg 3. "
   ]
  },
  {
   "cell_type": "code",
   "execution_count": 108,
   "id": "1cb2e626",
   "metadata": {},
   "outputs": [],
   "source": [
    "def power(n):\n",
    "    return lambda a:a**n"
   ]
  },
  {
   "cell_type": "code",
   "execution_count": 109,
   "id": "f61b3f8a",
   "metadata": {},
   "outputs": [
    {
     "name": "stdout",
     "output_type": "stream",
     "text": [
      "now power is set to 2\n"
     ]
    }
   ],
   "source": [
    "base=power(2)\n",
    "print(\"now power is set to 2\")"
   ]
  },
  {
   "cell_type": "code",
   "execution_count": 110,
   "id": "b643448f",
   "metadata": {},
   "outputs": [
    {
     "name": "stdout",
     "output_type": "stream",
     "text": [
      "6 power of 2=  36\n"
     ]
    }
   ],
   "source": [
    "print(\"6 power of 2= \",base(6))"
   ]
  },
  {
   "cell_type": "code",
   "execution_count": 111,
   "id": "0400a6fe",
   "metadata": {},
   "outputs": [
    {
     "name": "stdout",
     "output_type": "stream",
     "text": [
      "now power is set to 5\n"
     ]
    }
   ],
   "source": [
    "base=power(5)\n",
    "print(\"now power is set to 5\")"
   ]
  },
  {
   "cell_type": "code",
   "execution_count": 112,
   "id": "b69b2166",
   "metadata": {},
   "outputs": [
    {
     "name": "stdout",
     "output_type": "stream",
     "text": [
      "8 power of 5=  32768\n"
     ]
    }
   ],
   "source": [
    "print(\"8 power of 5= \",base(8))"
   ]
  },
  {
   "cell_type": "code",
   "execution_count": 113,
   "id": "46bbb6d2",
   "metadata": {},
   "outputs": [
    {
     "data": {
      "text/plain": [
       "32768"
      ]
     },
     "execution_count": 113,
     "metadata": {},
     "output_type": "execute_result"
    }
   ],
   "source": [
    "8*8*8*8*8"
   ]
  },
  {
   "cell_type": "code",
   "execution_count": null,
   "id": "a4ab83a7",
   "metadata": {},
   "outputs": [],
   "source": []
  }
 ],
 "metadata": {
  "kernelspec": {
   "display_name": "Python 3 (ipykernel)",
   "language": "python",
   "name": "python3"
  },
  "language_info": {
   "codemirror_mode": {
    "name": "ipython",
    "version": 3
   },
   "file_extension": ".py",
   "mimetype": "text/x-python",
   "name": "python",
   "nbconvert_exporter": "python",
   "pygments_lexer": "ipython3",
   "version": "3.11.5"
  }
 },
 "nbformat": 4,
 "nbformat_minor": 5
}
